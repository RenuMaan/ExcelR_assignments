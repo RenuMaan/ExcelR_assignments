{
 "cells": [
  {
   "cell_type": "markdown",
   "id": "00b49acd",
   "metadata": {},
   "source": [
    "## Assignment 4 : Linear Regression"
   ]
  },
  {
   "cell_type": "code",
   "execution_count": 35,
   "id": "af94d6bc",
   "metadata": {},
   "outputs": [],
   "source": [
    "import pandas as pd\n",
    "import matplotlib.pyplot as plt\n",
    "import seaborn as sns\n",
    "import numpy as np"
   ]
  },
  {
   "cell_type": "code",
   "execution_count": 36,
   "id": "3affc07b",
   "metadata": {},
   "outputs": [
    {
     "data": {
      "text/html": [
       "<div>\n",
       "<style scoped>\n",
       "    .dataframe tbody tr th:only-of-type {\n",
       "        vertical-align: middle;\n",
       "    }\n",
       "\n",
       "    .dataframe tbody tr th {\n",
       "        vertical-align: top;\n",
       "    }\n",
       "\n",
       "    .dataframe thead th {\n",
       "        text-align: right;\n",
       "    }\n",
       "</style>\n",
       "<table border=\"1\" class=\"dataframe\">\n",
       "  <thead>\n",
       "    <tr style=\"text-align: right;\">\n",
       "      <th></th>\n",
       "      <th>Delivery Time</th>\n",
       "      <th>Sorting Time</th>\n",
       "    </tr>\n",
       "  </thead>\n",
       "  <tbody>\n",
       "    <tr>\n",
       "      <th>0</th>\n",
       "      <td>21.00</td>\n",
       "      <td>10</td>\n",
       "    </tr>\n",
       "    <tr>\n",
       "      <th>1</th>\n",
       "      <td>13.50</td>\n",
       "      <td>4</td>\n",
       "    </tr>\n",
       "    <tr>\n",
       "      <th>2</th>\n",
       "      <td>19.75</td>\n",
       "      <td>6</td>\n",
       "    </tr>\n",
       "    <tr>\n",
       "      <th>3</th>\n",
       "      <td>24.00</td>\n",
       "      <td>9</td>\n",
       "    </tr>\n",
       "    <tr>\n",
       "      <th>4</th>\n",
       "      <td>29.00</td>\n",
       "      <td>10</td>\n",
       "    </tr>\n",
       "  </tbody>\n",
       "</table>\n",
       "</div>"
      ],
      "text/plain": [
       "   Delivery Time  Sorting Time\n",
       "0          21.00            10\n",
       "1          13.50             4\n",
       "2          19.75             6\n",
       "3          24.00             9\n",
       "4          29.00            10"
      ]
     },
     "execution_count": 36,
     "metadata": {},
     "output_type": "execute_result"
    }
   ],
   "source": [
    "df1 = pd.read_csv('delivery_time.csv')\n",
    "df1.head()"
   ]
  },
  {
   "cell_type": "code",
   "execution_count": 37,
   "id": "f2c2d0c5",
   "metadata": {},
   "outputs": [
    {
     "data": {
      "text/plain": [
       "Delivery Time    0\n",
       "Sorting Time     0\n",
       "dtype: int64"
      ]
     },
     "execution_count": 37,
     "metadata": {},
     "output_type": "execute_result"
    }
   ],
   "source": [
    "df1.isnull().sum()"
   ]
  },
  {
   "cell_type": "code",
   "execution_count": 38,
   "id": "eecc10de",
   "metadata": {},
   "outputs": [
    {
     "data": {
      "text/html": [
       "<div>\n",
       "<style scoped>\n",
       "    .dataframe tbody tr th:only-of-type {\n",
       "        vertical-align: middle;\n",
       "    }\n",
       "\n",
       "    .dataframe tbody tr th {\n",
       "        vertical-align: top;\n",
       "    }\n",
       "\n",
       "    .dataframe thead th {\n",
       "        text-align: right;\n",
       "    }\n",
       "</style>\n",
       "<table border=\"1\" class=\"dataframe\">\n",
       "  <thead>\n",
       "    <tr style=\"text-align: right;\">\n",
       "      <th></th>\n",
       "      <th>Delivery Time</th>\n",
       "      <th>Sorting Time</th>\n",
       "    </tr>\n",
       "  </thead>\n",
       "  <tbody>\n",
       "    <tr>\n",
       "      <th>count</th>\n",
       "      <td>21.000000</td>\n",
       "      <td>21.000000</td>\n",
       "    </tr>\n",
       "    <tr>\n",
       "      <th>mean</th>\n",
       "      <td>16.790952</td>\n",
       "      <td>6.190476</td>\n",
       "    </tr>\n",
       "    <tr>\n",
       "      <th>std</th>\n",
       "      <td>5.074901</td>\n",
       "      <td>2.542028</td>\n",
       "    </tr>\n",
       "    <tr>\n",
       "      <th>min</th>\n",
       "      <td>8.000000</td>\n",
       "      <td>2.000000</td>\n",
       "    </tr>\n",
       "    <tr>\n",
       "      <th>25%</th>\n",
       "      <td>13.500000</td>\n",
       "      <td>4.000000</td>\n",
       "    </tr>\n",
       "    <tr>\n",
       "      <th>50%</th>\n",
       "      <td>17.830000</td>\n",
       "      <td>6.000000</td>\n",
       "    </tr>\n",
       "    <tr>\n",
       "      <th>75%</th>\n",
       "      <td>19.750000</td>\n",
       "      <td>8.000000</td>\n",
       "    </tr>\n",
       "    <tr>\n",
       "      <th>max</th>\n",
       "      <td>29.000000</td>\n",
       "      <td>10.000000</td>\n",
       "    </tr>\n",
       "  </tbody>\n",
       "</table>\n",
       "</div>"
      ],
      "text/plain": [
       "       Delivery Time  Sorting Time\n",
       "count      21.000000     21.000000\n",
       "mean       16.790952      6.190476\n",
       "std         5.074901      2.542028\n",
       "min         8.000000      2.000000\n",
       "25%        13.500000      4.000000\n",
       "50%        17.830000      6.000000\n",
       "75%        19.750000      8.000000\n",
       "max        29.000000     10.000000"
      ]
     },
     "execution_count": 38,
     "metadata": {},
     "output_type": "execute_result"
    }
   ],
   "source": [
    "df1.describe()"
   ]
  },
  {
   "cell_type": "code",
   "execution_count": 72,
   "id": "92073838",
   "metadata": {},
   "outputs": [
    {
     "data": {
      "text/plain": [
       "{'whiskers': [<matplotlib.lines.Line2D at 0x2785010db80>,\n",
       "  <matplotlib.lines.Line2D at 0x2785010dac0>],\n",
       " 'caps': [<matplotlib.lines.Line2D at 0x2785010d250>,\n",
       "  <matplotlib.lines.Line2D at 0x2784fe83ee0>],\n",
       " 'boxes': [<matplotlib.lines.Line2D at 0x2785010d820>],\n",
       " 'medians': [<matplotlib.lines.Line2D at 0x2784fe83c10>],\n",
       " 'fliers': [<matplotlib.lines.Line2D at 0x2784fe83430>],\n",
       " 'means': []}"
      ]
     },
     "execution_count": 72,
     "metadata": {},
     "output_type": "execute_result"
    },
    {
     "data": {
      "image/png": "[encoded data removed]",
      "text/plain": [
       "<Figure size 600x300 with 2 Axes>"
      ]
     },
     "metadata": {},
     "output_type": "display_data"
    }
   ],
   "source": [
    "fig, axs = plt.subplots(1, 2, figsize=(6, 3), sharey=True)\n",
    "axs[0].boxplot(df1['Delivery Time'])\n",
    "axs[1].boxplot(df1['Sorting Time'])"
   ]
  },
  {
   "cell_type": "markdown",
   "id": "8bc08997",
   "metadata": {},
   "source": [
    "**The independent variable Delivery time is positively skewed. Therefore we need to transform the data**"
   ]
  },
  {
   "cell_type": "code",
   "execution_count": 76,
   "id": "cde86ad1",
   "metadata": {},
   "outputs": [
    {
     "data": {
      "text/plain": [
       "{'whiskers': [<matplotlib.lines.Line2D at 0x278502444f0>,\n",
       "  <matplotlib.lines.Line2D at 0x278502447c0>],\n",
       " 'caps': [<matplotlib.lines.Line2D at 0x27850244a90>,\n",
       "  <matplotlib.lines.Line2D at 0x27850244d60>],\n",
       " 'boxes': [<matplotlib.lines.Line2D at 0x27850244220>],\n",
       " 'medians': [<matplotlib.lines.Line2D at 0x27850261070>],\n",
       " 'fliers': [<matplotlib.lines.Line2D at 0x27850261340>],\n",
       " 'means': []}"
      ]
     },
     "execution_count": 76,
     "metadata": {},
     "output_type": "execute_result"
    },
    {
     "data": {
      "image/png": "[encoded data removed]",
      "text/plain": [
       "<Figure size 900x300 with 3 Axes>"
      ]
     },
     "metadata": {},
     "output_type": "display_data"
    }
   ],
   "source": [
    "# comparing log and sqrt transformations\n",
    "fig, axs = plt.subplots(1, 3, figsize=(9, 3), sharey=True)\n",
    "axs[0].boxplot(np.log(df1['Delivery Time']))\n",
    "axs[1].boxplot(np.sqrt(df1['Delivery Time']))\n",
    "axs[2].boxplot(np.cbrt(df1['Delivery Time']))"
   ]
  },
  {
   "cell_type": "code",
   "execution_count": 77,
   "id": "e78d203b",
   "metadata": {},
   "outputs": [],
   "source": [
    "df1['sqrt_trans'] = np.sqrt(df1['Delivery Time'])\n",
    "df1['log_trans'] = np.log(df1['Delivery Time'])"
   ]
  },
  {
   "cell_type": "code",
   "execution_count": 78,
   "id": "aa9324a0",
   "metadata": {},
   "outputs": [
    {
     "data": {
      "text/html": [
       "<div>\n",
       "<style scoped>\n",
       "    .dataframe tbody tr th:only-of-type {\n",
       "        vertical-align: middle;\n",
       "    }\n",
       "\n",
       "    .dataframe tbody tr th {\n",
       "        vertical-align: top;\n",
       "    }\n",
       "\n",
       "    .dataframe thead th {\n",
       "        text-align: right;\n",
       "    }\n",
       "</style>\n",
       "<table border=\"1\" class=\"dataframe\">\n",
       "  <thead>\n",
       "    <tr style=\"text-align: right;\">\n",
       "      <th></th>\n",
       "      <th>Delivery Time</th>\n",
       "      <th>Sorting Time</th>\n",
       "      <th>sqrt_trans</th>\n",
       "      <th>log_trans</th>\n",
       "    </tr>\n",
       "  </thead>\n",
       "  <tbody>\n",
       "    <tr>\n",
       "      <th>0</th>\n",
       "      <td>21.00</td>\n",
       "      <td>10</td>\n",
       "      <td>4.582576</td>\n",
       "      <td>3.044522</td>\n",
       "    </tr>\n",
       "    <tr>\n",
       "      <th>1</th>\n",
       "      <td>13.50</td>\n",
       "      <td>4</td>\n",
       "      <td>3.674235</td>\n",
       "      <td>2.602690</td>\n",
       "    </tr>\n",
       "    <tr>\n",
       "      <th>2</th>\n",
       "      <td>19.75</td>\n",
       "      <td>6</td>\n",
       "      <td>4.444097</td>\n",
       "      <td>2.983153</td>\n",
       "    </tr>\n",
       "    <tr>\n",
       "      <th>3</th>\n",
       "      <td>24.00</td>\n",
       "      <td>9</td>\n",
       "      <td>4.898979</td>\n",
       "      <td>3.178054</td>\n",
       "    </tr>\n",
       "    <tr>\n",
       "      <th>4</th>\n",
       "      <td>29.00</td>\n",
       "      <td>10</td>\n",
       "      <td>5.385165</td>\n",
       "      <td>3.367296</td>\n",
       "    </tr>\n",
       "  </tbody>\n",
       "</table>\n",
       "</div>"
      ],
      "text/plain": [
       "   Delivery Time  Sorting Time  sqrt_trans  log_trans\n",
       "0          21.00            10    4.582576   3.044522\n",
       "1          13.50             4    3.674235   2.602690\n",
       "2          19.75             6    4.444097   2.983153\n",
       "3          24.00             9    4.898979   3.178054\n",
       "4          29.00            10    5.385165   3.367296"
      ]
     },
     "execution_count": 78,
     "metadata": {},
     "output_type": "execute_result"
    }
   ],
   "source": [
    "df1.head()"
   ]
  },
  {
   "cell_type": "code",
   "execution_count": 94,
   "id": "2d5ee604",
   "metadata": {},
   "outputs": [
    {
     "data": {
      "text/plain": [
       "<AxesSubplot:xlabel='log_trans', ylabel='Sorting Time'>"
      ]
     },
     "execution_count": 94,
     "metadata": {},
     "output_type": "execute_result"
    },
    {
     "data": {
      "image/png": "[encoded data removed]",
      "text/plain": [
       "<Figure size 300x300 with 1 Axes>"
      ]
     },
     "metadata": {},
     "output_type": "display_data"
    }
   ],
   "source": [
    "plt.figure(figsize = (3,3))\n",
    "sns.regplot(x = df1['log_trans'], y = df1['Sorting Time'])"
   ]
  },
  {
   "cell_type": "code",
   "execution_count": 80,
   "id": "4c0dd299",
   "metadata": {},
   "outputs": [],
   "source": [
    "x  = np.array((df1['Delivery Time'])).reshape((-1, 1)) \n",
    "x1 = np.array((df1['log_trans'])).reshape((-1, 1))\n",
    "x2 = np.array((df1['sqrt_trans'])).reshape((-1, 1)) \n",
    "y =np.array(df1['Sorting Time'])"
   ]
  },
  {
   "cell_type": "code",
   "execution_count": 96,
   "id": "466ac6b2",
   "metadata": {},
   "outputs": [
    {
     "data": {
      "text/plain": [
       "LinearRegression()"
      ]
     },
     "execution_count": 96,
     "metadata": {},
     "output_type": "execute_result"
    }
   ],
   "source": [
    "from sklearn.linear_model import LinearRegression\n",
    "model1 = LinearRegression()\n",
    "model2 = LinearRegression()\n",
    "model3 = LinearRegression()\n",
    "model1.fit(x, y)\n",
    "model2.fit(x1, y)\n",
    "model3.fit(x2, y)"
   ]
  },
  {
   "cell_type": "code",
   "execution_count": 97,
   "id": "abdbef47",
   "metadata": {},
   "outputs": [
    {
     "name": "stdout",
     "output_type": "stream",
     "text": [
      "R-square value (no transformation) = 0.6822714748417231\n",
      "R-square value (log_transformation) = 0.7109478980584185\n",
      "R-square value (sqrt transformation) = 0.704049871541756\n"
     ]
    }
   ],
   "source": [
    "print(\"R-square value (no transformation) =\", model1.score(x, y))\n",
    "print(\"R-square value (log_transformation) =\", model2.score(x1, y))\n",
    "print(\"R-square value (sqrt transformation) =\", model3.score(x2, y))"
   ]
  },
  {
   "cell_type": "markdown",
   "id": "2d1308f5",
   "metadata": {},
   "source": [
    "**Log transformation of the Delivery time gave the highest R_square. Therefore we can choose model2**"
   ]
  },
  {
   "cell_type": "code",
   "execution_count": 103,
   "id": "e9a48eb9",
   "metadata": {},
   "outputs": [
    {
     "data": {
      "text/plain": [
       "array([ 8.0072956 ,  5.0313097 ,  7.59394209,  8.90670276, 10.18135141,\n",
       "        5.89632782,  7.33317862,  2.66445223,  6.93148219,  7.24396475,\n",
       "        7.62117021,  3.49706001,  6.4560177 ,  3.95131402,  4.25479422,\n",
       "        5.68686948,  5.15490122,  7.01004265,  1.5069465 ,  6.90509042,\n",
       "        8.1657864 ])"
      ]
     },
     "execution_count": 103,
     "metadata": {},
     "output_type": "execute_result"
    }
   ],
   "source": [
    "y_hat = model2.predict(df1['log_trans'].values.reshape((-1,1)))\n",
    "y_hat"
   ]
  },
  {
   "cell_type": "code",
   "execution_count": 100,
   "id": "ab7ecd79",
   "metadata": {},
   "outputs": [
    {
     "data": {
      "text/plain": [
       "Text(0, 0.5, 'Residues')"
      ]
     },
     "execution_count": 100,
     "metadata": {},
     "output_type": "execute_result"
    },
    {
     "data": {
      "image/png": "[encoded data removed]",
      "text/plain": [
       "<Figure size 300x300 with 1 Axes>"
      ]
     },
     "metadata": {},
     "output_type": "display_data"
    }
   ],
   "source": [
    "plt.figure(figsize = (3,3))\n",
    "sns.residplot(x=y, y=y_hat)\n",
    "plt.ylabel(\"Residues\")"
   ]
  },
  {
   "cell_type": "code",
   "execution_count": 101,
   "id": "4fbe415b",
   "metadata": {
    "scrolled": true
   },
   "outputs": [
    {
     "data": {
      "text/plain": [
       "(array([1., 2., 3., 8., 4., 2., 1.]),\n",
       " array([-3.1657864 , -2.27517152, -1.38455663, -0.49394174,  0.39667315,\n",
       "         1.28728804,  2.17790292,  3.06851781]),\n",
       " <BarContainer object of 7 artists>)"
      ]
     },
     "execution_count": 101,
     "metadata": {},
     "output_type": "execute_result"
    },
    {
     "data": {
      "image/png": "[encoded data removed]",
      "text/plain": [
       "<Figure size 200x200 with 1 Axes>"
      ]
     },
     "metadata": {},
     "output_type": "display_data"
    }
   ],
   "source": [
    "resid = y-y_hat\n",
    "plt.figure(figsize = (2,2))\n",
    "plt.hist(resid, bins = 7, edgecolor = 'black')"
   ]
  },
  {
   "cell_type": "code",
   "execution_count": 106,
   "id": "46637271",
   "metadata": {},
   "outputs": [
    {
     "name": "stdout",
     "output_type": "stream",
     "text": [
      "-12.499232676555241\n",
      "[6.73554841]\n"
     ]
    }
   ],
   "source": [
    "print(model2.intercept_)\n",
    "print(model2.coef_)"
   ]
  },
  {
   "cell_type": "markdown",
   "id": "b1089382",
   "metadata": {},
   "source": [
    "So our model for this probelm would be y = -12.5 + 6.74*(logx)"
   ]
  },
  {
   "cell_type": "markdown",
   "id": "05654778",
   "metadata": {},
   "source": [
    "**Problem 2: Year of experience and Salary**"
   ]
  },
  {
   "cell_type": "code",
   "execution_count": 49,
   "id": "f146633e",
   "metadata": {},
   "outputs": [
    {
     "data": {
      "text/html": [
       "<div>\n",
       "<style scoped>\n",
       "    .dataframe tbody tr th:only-of-type {\n",
       "        vertical-align: middle;\n",
       "    }\n",
       "\n",
       "    .dataframe tbody tr th {\n",
       "        vertical-align: top;\n",
       "    }\n",
       "\n",
       "    .dataframe thead th {\n",
       "        text-align: right;\n",
       "    }\n",
       "</style>\n",
       "<table border=\"1\" class=\"dataframe\">\n",
       "  <thead>\n",
       "    <tr style=\"text-align: right;\">\n",
       "      <th></th>\n",
       "      <th>YearsExperience</th>\n",
       "      <th>Salary</th>\n",
       "    </tr>\n",
       "  </thead>\n",
       "  <tbody>\n",
       "    <tr>\n",
       "      <th>0</th>\n",
       "      <td>1.1</td>\n",
       "      <td>39343.0</td>\n",
       "    </tr>\n",
       "    <tr>\n",
       "      <th>1</th>\n",
       "      <td>1.3</td>\n",
       "      <td>46205.0</td>\n",
       "    </tr>\n",
       "    <tr>\n",
       "      <th>2</th>\n",
       "      <td>1.5</td>\n",
       "      <td>37731.0</td>\n",
       "    </tr>\n",
       "    <tr>\n",
       "      <th>3</th>\n",
       "      <td>2.0</td>\n",
       "      <td>43525.0</td>\n",
       "    </tr>\n",
       "    <tr>\n",
       "      <th>4</th>\n",
       "      <td>2.2</td>\n",
       "      <td>39891.0</td>\n",
       "    </tr>\n",
       "  </tbody>\n",
       "</table>\n",
       "</div>"
      ],
      "text/plain": [
       "   YearsExperience   Salary\n",
       "0              1.1  39343.0\n",
       "1              1.3  46205.0\n",
       "2              1.5  37731.0\n",
       "3              2.0  43525.0\n",
       "4              2.2  39891.0"
      ]
     },
     "execution_count": 49,
     "metadata": {},
     "output_type": "execute_result"
    }
   ],
   "source": [
    "df2 = pd.read_csv(\"Salary_Data.csv\")\n",
    "df2.head()"
   ]
  },
  {
   "cell_type": "code",
   "execution_count": 50,
   "id": "b9ba4ae0",
   "metadata": {},
   "outputs": [
    {
     "name": "stdout",
     "output_type": "stream",
     "text": [
      "<class 'pandas.core.frame.DataFrame'>\n",
      "RangeIndex: 30 entries, 0 to 29\n",
      "Data columns (total 2 columns):\n",
      " #   Column           Non-Null Count  Dtype  \n",
      "---  ------           --------------  -----  \n",
      " 0   YearsExperience  30 non-null     float64\n",
      " 1   Salary           30 non-null     float64\n",
      "dtypes: float64(2)\n",
      "memory usage: 608.0 bytes\n"
     ]
    }
   ],
   "source": [
    "df2.info()"
   ]
  },
  {
   "cell_type": "code",
   "execution_count": 51,
   "id": "5deaf53d",
   "metadata": {},
   "outputs": [
    {
     "data": {
      "text/html": [
       "<div>\n",
       "<style scoped>\n",
       "    .dataframe tbody tr th:only-of-type {\n",
       "        vertical-align: middle;\n",
       "    }\n",
       "\n",
       "    .dataframe tbody tr th {\n",
       "        vertical-align: top;\n",
       "    }\n",
       "\n",
       "    .dataframe thead th {\n",
       "        text-align: right;\n",
       "    }\n",
       "</style>\n",
       "<table border=\"1\" class=\"dataframe\">\n",
       "  <thead>\n",
       "    <tr style=\"text-align: right;\">\n",
       "      <th></th>\n",
       "      <th>YearsExperience</th>\n",
       "      <th>Salary</th>\n",
       "    </tr>\n",
       "  </thead>\n",
       "  <tbody>\n",
       "    <tr>\n",
       "      <th>count</th>\n",
       "      <td>30.000000</td>\n",
       "      <td>30.000000</td>\n",
       "    </tr>\n",
       "    <tr>\n",
       "      <th>mean</th>\n",
       "      <td>5.313333</td>\n",
       "      <td>76003.000000</td>\n",
       "    </tr>\n",
       "    <tr>\n",
       "      <th>std</th>\n",
       "      <td>2.837888</td>\n",
       "      <td>27414.429785</td>\n",
       "    </tr>\n",
       "    <tr>\n",
       "      <th>min</th>\n",
       "      <td>1.100000</td>\n",
       "      <td>37731.000000</td>\n",
       "    </tr>\n",
       "    <tr>\n",
       "      <th>25%</th>\n",
       "      <td>3.200000</td>\n",
       "      <td>56720.750000</td>\n",
       "    </tr>\n",
       "    <tr>\n",
       "      <th>50%</th>\n",
       "      <td>4.700000</td>\n",
       "      <td>65237.000000</td>\n",
       "    </tr>\n",
       "    <tr>\n",
       "      <th>75%</th>\n",
       "      <td>7.700000</td>\n",
       "      <td>100544.750000</td>\n",
       "    </tr>\n",
       "    <tr>\n",
       "      <th>max</th>\n",
       "      <td>10.500000</td>\n",
       "      <td>122391.000000</td>\n",
       "    </tr>\n",
       "  </tbody>\n",
       "</table>\n",
       "</div>"
      ],
      "text/plain": [
       "       YearsExperience         Salary\n",
       "count        30.000000      30.000000\n",
       "mean          5.313333   76003.000000\n",
       "std           2.837888   27414.429785\n",
       "min           1.100000   37731.000000\n",
       "25%           3.200000   56720.750000\n",
       "50%           4.700000   65237.000000\n",
       "75%           7.700000  100544.750000\n",
       "max          10.500000  122391.000000"
      ]
     },
     "execution_count": 51,
     "metadata": {},
     "output_type": "execute_result"
    }
   ],
   "source": [
    "df2.describe()"
   ]
  },
  {
   "cell_type": "code",
   "execution_count": 65,
   "id": "5be75233",
   "metadata": {},
   "outputs": [
    {
     "data": {
      "text/plain": [
       "<Figure size 640x480 with 0 Axes>"
      ]
     },
     "metadata": {},
     "output_type": "display_data"
    },
    {
     "data": {
      "image/png": "[encoded data removed]",
      "text/plain": [
       "<Figure size 1000x500 with 2 Axes>"
      ]
     },
     "metadata": {},
     "output_type": "display_data"
    }
   ],
   "source": [
    "plt.subplots_adjust(wspace=0.8)\n",
    "fig, ax = plt.subplots(1,2, figsize = (10,5))\n",
    "ax[0].boxplot(x= df2['YearsExperience'], data = df2)\n",
    "ax[0].set_xlabel('YearsExperience')\n",
    "ax[0].set_ylabel('frequency')\n",
    "ax[1].boxplot(x= df2['Salary'], data = df2)\n",
    "ax[1].set_xlabel('Salary')\n",
    "plt.show()"
   ]
  },
  {
   "cell_type": "code",
   "execution_count": 109,
   "id": "94e7ebb9",
   "metadata": {},
   "outputs": [
    {
     "data": {
      "text/plain": [
       "{'whiskers': [<matplotlib.lines.Line2D at 0x2785379a0d0>,\n",
       "  <matplotlib.lines.Line2D at 0x2785379a3a0>],\n",
       " 'caps': [<matplotlib.lines.Line2D at 0x2785379a670>,\n",
       "  <matplotlib.lines.Line2D at 0x2785379a940>],\n",
       " 'boxes': [<matplotlib.lines.Line2D at 0x2785378fdc0>],\n",
       " 'medians': [<matplotlib.lines.Line2D at 0x2785379ac10>],\n",
       " 'fliers': [<matplotlib.lines.Line2D at 0x2785379aee0>],\n",
       " 'means': []}"
      ]
     },
     "execution_count": 109,
     "metadata": {},
     "output_type": "execute_result"
    },
    {
     "data": {
      "image/png": "[encoded data removed]",
      "text/plain": [
       "<Figure size 900x300 with 3 Axes>"
      ]
     },
     "metadata": {},
     "output_type": "display_data"
    }
   ],
   "source": [
    "fig, axs = plt.subplots(1, 3, figsize=(9, 3), sharey=True)\n",
    "axs[0].boxplot((df2['YearsExperience']))\n",
    "axs[1].boxplot(np.log(df2['YearsExperience']))\n",
    "axs[2].boxplot(np.sqrt(df2['YearsExperience']))"
   ]
  },
  {
   "cell_type": "code",
   "execution_count": 120,
   "id": "edf8fc51",
   "metadata": {},
   "outputs": [
    {
     "data": {
      "text/html": [
       "<div>\n",
       "<style scoped>\n",
       "    .dataframe tbody tr th:only-of-type {\n",
       "        vertical-align: middle;\n",
       "    }\n",
       "\n",
       "    .dataframe tbody tr th {\n",
       "        vertical-align: top;\n",
       "    }\n",
       "\n",
       "    .dataframe thead th {\n",
       "        text-align: right;\n",
       "    }\n",
       "</style>\n",
       "<table border=\"1\" class=\"dataframe\">\n",
       "  <thead>\n",
       "    <tr style=\"text-align: right;\">\n",
       "      <th></th>\n",
       "      <th>YearsExperience</th>\n",
       "      <th>Salary</th>\n",
       "      <th>log_trans</th>\n",
       "      <th>sqrt_trans</th>\n",
       "    </tr>\n",
       "  </thead>\n",
       "  <tbody>\n",
       "    <tr>\n",
       "      <th>0</th>\n",
       "      <td>1.1</td>\n",
       "      <td>39343.0</td>\n",
       "      <td>0.095310</td>\n",
       "      <td>1.048809</td>\n",
       "    </tr>\n",
       "    <tr>\n",
       "      <th>1</th>\n",
       "      <td>1.3</td>\n",
       "      <td>46205.0</td>\n",
       "      <td>0.262364</td>\n",
       "      <td>1.140175</td>\n",
       "    </tr>\n",
       "    <tr>\n",
       "      <th>2</th>\n",
       "      <td>1.5</td>\n",
       "      <td>37731.0</td>\n",
       "      <td>0.405465</td>\n",
       "      <td>1.224745</td>\n",
       "    </tr>\n",
       "    <tr>\n",
       "      <th>3</th>\n",
       "      <td>2.0</td>\n",
       "      <td>43525.0</td>\n",
       "      <td>0.693147</td>\n",
       "      <td>1.414214</td>\n",
       "    </tr>\n",
       "    <tr>\n",
       "      <th>4</th>\n",
       "      <td>2.2</td>\n",
       "      <td>39891.0</td>\n",
       "      <td>0.788457</td>\n",
       "      <td>1.483240</td>\n",
       "    </tr>\n",
       "  </tbody>\n",
       "</table>\n",
       "</div>"
      ],
      "text/plain": [
       "   YearsExperience   Salary  log_trans  sqrt_trans\n",
       "0              1.1  39343.0   0.095310    1.048809\n",
       "1              1.3  46205.0   0.262364    1.140175\n",
       "2              1.5  37731.0   0.405465    1.224745\n",
       "3              2.0  43525.0   0.693147    1.414214\n",
       "4              2.2  39891.0   0.788457    1.483240"
      ]
     },
     "execution_count": 120,
     "metadata": {},
     "output_type": "execute_result"
    }
   ],
   "source": [
    "df2['log_trans'] = np.log(df2['YearsExperience'])\n",
    "df2['sqrt_trans'] = np.sqrt(df2['YearsExperience'])\n",
    "df2.head()"
   ]
  },
  {
   "cell_type": "code",
   "execution_count": 125,
   "id": "e18a7030",
   "metadata": {},
   "outputs": [],
   "source": [
    "x  = np.array((df2['YearsExperience'])).reshape((-1, 1)) \n",
    "x1 = np.array((df2['log_trans'])).reshape((-1, 1))\n",
    "x2 = np.array((df2['sqrt_trans'])).reshape((-1, 1)) \n",
    "y =np.array(np.sqrt(df2['Salary']))"
   ]
  },
  {
   "cell_type": "code",
   "execution_count": 126,
   "id": "5d9132b2",
   "metadata": {},
   "outputs": [
    {
     "data": {
      "text/plain": [
       "<AxesSubplot:xlabel='YearsExperience', ylabel='Salary'>"
      ]
     },
     "execution_count": 126,
     "metadata": {},
     "output_type": "execute_result"
    },
    {
     "data": {
      "image/png": "[encoded data removed]",
      "text/plain": [
       "<Figure size 300x300 with 1 Axes>"
      ]
     },
     "metadata": {},
     "output_type": "display_data"
    }
   ],
   "source": [
    "plt.figure(figsize = (3,3))\n",
    "sns.regplot(x=df2['YearsExperience'], y = df2['Salary'])"
   ]
  },
  {
   "cell_type": "code",
   "execution_count": 127,
   "id": "a334b4b4",
   "metadata": {},
   "outputs": [
    {
     "name": "stdout",
     "output_type": "stream",
     "text": [
      "R-square value (no transformation) = 0.949835353386529\n",
      "R-square value (log_transformation) = 0.8830727062597233\n",
      "R-square value (sqrt transformation) = 0.9419490138976824\n"
     ]
    }
   ],
   "source": [
    "model_a = LinearRegression()\n",
    "model_b = LinearRegression()\n",
    "model_c = LinearRegression()\n",
    "model_a.fit(x,y)\n",
    "model_b.fit(x1,y)\n",
    "model_c.fit(x2,y)\n",
    "\n",
    "print(\"R-square value (no transformation) =\", model_a.score(x, y))\n",
    "print(\"R-square value (log_transformation) =\", model_b.score(x1, y))\n",
    "print(\"R-square value (sqrt transformation) =\", model_c.score(x2, y))"
   ]
  },
  {
   "cell_type": "code",
   "execution_count": 129,
   "id": "4d08cc55",
   "metadata": {},
   "outputs": [
    {
     "data": {
      "text/plain": [
       "array([182.88622598, 189.79599988, 196.19172763, 210.52066342,\n",
       "       215.74089823, 232.35605495, 234.55771912, 238.85359917,\n",
       "       238.85359917, 249.0393387 , 252.91925438, 254.82189445,\n",
       "       254.82189445, 256.70089648, 263.99697981, 270.97538072,\n",
       "       274.35768907, 277.67430277, 287.26520996, 288.81542461,\n",
       "       300.77894118, 305.08223134, 316.13218413, 320.13060635,\n",
       "       326.63543214, 330.44882634, 336.66588965, 337.88950886,\n",
       "       346.28217966, 348.62729837])"
      ]
     },
     "execution_count": 129,
     "metadata": {},
     "output_type": "execute_result"
    }
   ],
   "source": [
    "y_hat1 = model_c.predict(df2['sqrt_trans'].values.reshape((-1,1)))\n",
    "y_hat1"
   ]
  },
  {
   "cell_type": "code",
   "execution_count": 139,
   "id": "7df7b47d",
   "metadata": {},
   "outputs": [
    {
     "data": {
      "text/plain": [
       "Text(0, 0.5, 'Residues')"
      ]
     },
     "execution_count": 139,
     "metadata": {},
     "output_type": "execute_result"
    },
    {
     "data": {
      "image/png": "[encoded data removed]",
      "text/plain": [
       "<Figure size 300x300 with 1 Axes>"
      ]
     },
     "metadata": {},
     "output_type": "display_data"
    }
   ],
   "source": [
    "plt.figure(figsize = (3,3))\n",
    "sns.residplot(x=y, y=y_hat1)\n",
    "plt.ylabel(\"Residues\")"
   ]
  },
  {
   "cell_type": "code",
   "execution_count": 145,
   "id": "232da5c3",
   "metadata": {},
   "outputs": [
    {
     "data": {
      "text/plain": [
       "(array([8., 7., 7., 5., 3.]),\n",
       " array([-18.61435858,  -9.85999017,  -1.10562176,   7.64874665,\n",
       "         16.40311506,  25.15748346]),\n",
       " <BarContainer object of 5 artists>)"
      ]
     },
     "execution_count": 145,
     "metadata": {},
     "output_type": "execute_result"
    },
    {
     "data": {
      "image/png": "[encoded data removed]",
      "text/plain": [
       "<Figure size 200x200 with 1 Axes>"
      ]
     },
     "metadata": {},
     "output_type": "display_data"
    }
   ],
   "source": [
    "resid = y-y_hat1\n",
    "plt.figure(figsize = (2,2))\n",
    "plt.hist(resid, bins = 5, edgecolor = 'black')"
   ]
  },
  {
   "cell_type": "code",
   "execution_count": 147,
   "id": "74f1e756",
   "metadata": {},
   "outputs": [
    {
     "name": "stdout",
     "output_type": "stream",
     "text": [
      "103.56803064869729\n",
      "[75.6269319]\n"
     ]
    }
   ],
   "source": [
    "print(model_c.intercept_)\n",
    "print(model_c.coef_)"
   ]
  },
  {
   "cell_type": "markdown",
   "id": "fa13a88f",
   "metadata": {},
   "source": [
    "So our model for this probelm would be y = -12.5 + 6.74*(sqrtx)"
   ]
  }
 ],
 "metadata": {
  "kernelspec": {
   "display_name": "Python 3 (ipykernel)",
   "language": "python",
   "name": "python3"
  },
  "language_info": {
   "codemirror_mode": {
    "name": "ipython",
    "version": 3
   },
   "file_extension": ".py",
   "mimetype": "text/x-python",
   "name": "python",
   "nbconvert_exporter": "python",
   "pygments_lexer": "ipython3",
   "version": "3.9.13"
  }
 },
 "nbformat": 4,
 "nbformat_minor": 5
}
