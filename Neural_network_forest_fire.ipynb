{
 "cells": [
  {
   "cell_type": "markdown",
   "id": "6d4cf6e8",
   "metadata": {},
   "source": [
    "# Problem Statement : predict the burned area of forest fires with neural networks. "
   ]
  },
  {
   "cell_type": "code",
   "execution_count": 296,
   "id": "5dbf5e12",
   "metadata": {},
   "outputs": [],
   "source": [
    "import numpy as np # linear algebra\n",
    "import pandas as pd # data processing, CSV file I/O (e.g. pd.read_csv)\n",
    "import seaborn as sns\n",
    "import matplotlib.pyplot as plt\n",
    "import scipy as sp\n",
    "from tensorflow import keras\n",
    "from tensorflow.keras import layers\n",
    "from keras.layers import Dense\n",
    "from tensorflow.keras.models import Sequential\n",
    "from keras.wrappers.scikit_learn import KerasClassifier\n",
    "from tensorflow.keras import callbacks\n",
    "from tensorflow.keras.optimizers import Adam\n",
    "from sklearn.preprocessing import StandardScaler\n",
    "from sklearn.preprocessing import MinMaxScaler\n",
    "from sklearn.model_selection import train_test_split"
   ]
  },
  {
   "cell_type": "code",
   "execution_count": 297,
   "id": "9dc0a4b4",
   "metadata": {},
   "outputs": [
    {
     "data": {
      "text/html": [
       "<div>\n",
       "<style scoped>\n",
       "    .dataframe tbody tr th:only-of-type {\n",
       "        vertical-align: middle;\n",
       "    }\n",
       "\n",
       "    .dataframe tbody tr th {\n",
       "        vertical-align: top;\n",
       "    }\n",
       "\n",
       "    .dataframe thead th {\n",
       "        text-align: right;\n",
       "    }\n",
       "</style>\n",
       "<table border=\"1\" class=\"dataframe\">\n",
       "  <thead>\n",
       "    <tr style=\"text-align: right;\">\n",
       "      <th></th>\n",
       "      <th>month</th>\n",
       "      <th>day</th>\n",
       "      <th>FFMC</th>\n",
       "      <th>DMC</th>\n",
       "      <th>DC</th>\n",
       "      <th>ISI</th>\n",
       "      <th>temp</th>\n",
       "      <th>RH</th>\n",
       "      <th>wind</th>\n",
       "      <th>rain</th>\n",
       "      <th>...</th>\n",
       "      <th>monthfeb</th>\n",
       "      <th>monthjan</th>\n",
       "      <th>monthjul</th>\n",
       "      <th>monthjun</th>\n",
       "      <th>monthmar</th>\n",
       "      <th>monthmay</th>\n",
       "      <th>monthnov</th>\n",
       "      <th>monthoct</th>\n",
       "      <th>monthsep</th>\n",
       "      <th>size_category</th>\n",
       "    </tr>\n",
       "  </thead>\n",
       "  <tbody>\n",
       "    <tr>\n",
       "      <th>0</th>\n",
       "      <td>mar</td>\n",
       "      <td>fri</td>\n",
       "      <td>86.2</td>\n",
       "      <td>26.2</td>\n",
       "      <td>94.3</td>\n",
       "      <td>5.1</td>\n",
       "      <td>8.2</td>\n",
       "      <td>51</td>\n",
       "      <td>6.7</td>\n",
       "      <td>0.0</td>\n",
       "      <td>...</td>\n",
       "      <td>0</td>\n",
       "      <td>0</td>\n",
       "      <td>0</td>\n",
       "      <td>0</td>\n",
       "      <td>1</td>\n",
       "      <td>0</td>\n",
       "      <td>0</td>\n",
       "      <td>0</td>\n",
       "      <td>0</td>\n",
       "      <td>small</td>\n",
       "    </tr>\n",
       "    <tr>\n",
       "      <th>1</th>\n",
       "      <td>oct</td>\n",
       "      <td>tue</td>\n",
       "      <td>90.6</td>\n",
       "      <td>35.4</td>\n",
       "      <td>669.1</td>\n",
       "      <td>6.7</td>\n",
       "      <td>18.0</td>\n",
       "      <td>33</td>\n",
       "      <td>0.9</td>\n",
       "      <td>0.0</td>\n",
       "      <td>...</td>\n",
       "      <td>0</td>\n",
       "      <td>0</td>\n",
       "      <td>0</td>\n",
       "      <td>0</td>\n",
       "      <td>0</td>\n",
       "      <td>0</td>\n",
       "      <td>0</td>\n",
       "      <td>1</td>\n",
       "      <td>0</td>\n",
       "      <td>small</td>\n",
       "    </tr>\n",
       "    <tr>\n",
       "      <th>2</th>\n",
       "      <td>oct</td>\n",
       "      <td>sat</td>\n",
       "      <td>90.6</td>\n",
       "      <td>43.7</td>\n",
       "      <td>686.9</td>\n",
       "      <td>6.7</td>\n",
       "      <td>14.6</td>\n",
       "      <td>33</td>\n",
       "      <td>1.3</td>\n",
       "      <td>0.0</td>\n",
       "      <td>...</td>\n",
       "      <td>0</td>\n",
       "      <td>0</td>\n",
       "      <td>0</td>\n",
       "      <td>0</td>\n",
       "      <td>0</td>\n",
       "      <td>0</td>\n",
       "      <td>0</td>\n",
       "      <td>1</td>\n",
       "      <td>0</td>\n",
       "      <td>small</td>\n",
       "    </tr>\n",
       "    <tr>\n",
       "      <th>3</th>\n",
       "      <td>mar</td>\n",
       "      <td>fri</td>\n",
       "      <td>91.7</td>\n",
       "      <td>33.3</td>\n",
       "      <td>77.5</td>\n",
       "      <td>9.0</td>\n",
       "      <td>8.3</td>\n",
       "      <td>97</td>\n",
       "      <td>4.0</td>\n",
       "      <td>0.2</td>\n",
       "      <td>...</td>\n",
       "      <td>0</td>\n",
       "      <td>0</td>\n",
       "      <td>0</td>\n",
       "      <td>0</td>\n",
       "      <td>1</td>\n",
       "      <td>0</td>\n",
       "      <td>0</td>\n",
       "      <td>0</td>\n",
       "      <td>0</td>\n",
       "      <td>small</td>\n",
       "    </tr>\n",
       "    <tr>\n",
       "      <th>4</th>\n",
       "      <td>mar</td>\n",
       "      <td>sun</td>\n",
       "      <td>89.3</td>\n",
       "      <td>51.3</td>\n",
       "      <td>102.2</td>\n",
       "      <td>9.6</td>\n",
       "      <td>11.4</td>\n",
       "      <td>99</td>\n",
       "      <td>1.8</td>\n",
       "      <td>0.0</td>\n",
       "      <td>...</td>\n",
       "      <td>0</td>\n",
       "      <td>0</td>\n",
       "      <td>0</td>\n",
       "      <td>0</td>\n",
       "      <td>1</td>\n",
       "      <td>0</td>\n",
       "      <td>0</td>\n",
       "      <td>0</td>\n",
       "      <td>0</td>\n",
       "      <td>small</td>\n",
       "    </tr>\n",
       "  </tbody>\n",
       "</table>\n",
       "<p>5 rows × 31 columns</p>\n",
       "</div>"
      ],
      "text/plain": [
       "  month  day  FFMC   DMC     DC  ISI  temp  RH  wind  rain  ...  monthfeb  \\\n",
       "0   mar  fri  86.2  26.2   94.3  5.1   8.2  51   6.7   0.0  ...         0   \n",
       "1   oct  tue  90.6  35.4  669.1  6.7  18.0  33   0.9   0.0  ...         0   \n",
       "2   oct  sat  90.6  43.7  686.9  6.7  14.6  33   1.3   0.0  ...         0   \n",
       "3   mar  fri  91.7  33.3   77.5  9.0   8.3  97   4.0   0.2  ...         0   \n",
       "4   mar  sun  89.3  51.3  102.2  9.6  11.4  99   1.8   0.0  ...         0   \n",
       "\n",
       "   monthjan  monthjul  monthjun  monthmar  monthmay  monthnov  monthoct  \\\n",
       "0         0         0         0         1         0         0         0   \n",
       "1         0         0         0         0         0         0         1   \n",
       "2         0         0         0         0         0         0         1   \n",
       "3         0         0         0         1         0         0         0   \n",
       "4         0         0         0         1         0         0         0   \n",
       "\n",
       "   monthsep  size_category  \n",
       "0         0          small  \n",
       "1         0          small  \n",
       "2         0          small  \n",
       "3         0          small  \n",
       "4         0          small  \n",
       "\n",
       "[5 rows x 31 columns]"
      ]
     },
     "execution_count": 297,
     "metadata": {},
     "output_type": "execute_result"
    }
   ],
   "source": [
    "data = pd.read_csv(\"forestfires.csv\")\n",
    "data.head()"
   ]
  },
  {
   "cell_type": "markdown",
   "id": "199fe5e3",
   "metadata": {},
   "source": [
    "# EDA and data preprocessing"
   ]
  },
  {
   "cell_type": "code",
   "execution_count": 298,
   "id": "719bb4f6",
   "metadata": {},
   "outputs": [
    {
     "name": "stdout",
     "output_type": "stream",
     "text": [
      "<class 'pandas.core.frame.DataFrame'>\n",
      "RangeIndex: 517 entries, 0 to 516\n",
      "Data columns (total 31 columns):\n",
      " #   Column         Non-Null Count  Dtype  \n",
      "---  ------         --------------  -----  \n",
      " 0   month          517 non-null    object \n",
      " 1   day            517 non-null    object \n",
      " 2   FFMC           517 non-null    float64\n",
      " 3   DMC            517 non-null    float64\n",
      " 4   DC             517 non-null    float64\n",
      " 5   ISI            517 non-null    float64\n",
      " 6   temp           517 non-null    float64\n",
      " 7   RH             517 non-null    int64  \n",
      " 8   wind           517 non-null    float64\n",
      " 9   rain           517 non-null    float64\n",
      " 10  area           517 non-null    float64\n",
      " 11  dayfri         517 non-null    int64  \n",
      " 12  daymon         517 non-null    int64  \n",
      " 13  daysat         517 non-null    int64  \n",
      " 14  daysun         517 non-null    int64  \n",
      " 15  daythu         517 non-null    int64  \n",
      " 16  daytue         517 non-null    int64  \n",
      " 17  daywed         517 non-null    int64  \n",
      " 18  monthapr       517 non-null    int64  \n",
      " 19  monthaug       517 non-null    int64  \n",
      " 20  monthdec       517 non-null    int64  \n",
      " 21  monthfeb       517 non-null    int64  \n",
      " 22  monthjan       517 non-null    int64  \n",
      " 23  monthjul       517 non-null    int64  \n",
      " 24  monthjun       517 non-null    int64  \n",
      " 25  monthmar       517 non-null    int64  \n",
      " 26  monthmay       517 non-null    int64  \n",
      " 27  monthnov       517 non-null    int64  \n",
      " 28  monthoct       517 non-null    int64  \n",
      " 29  monthsep       517 non-null    int64  \n",
      " 30  size_category  517 non-null    object \n",
      "dtypes: float64(8), int64(20), object(3)\n",
      "memory usage: 125.3+ KB\n"
     ]
    }
   ],
   "source": [
    "data.info()"
   ]
  },
  {
   "cell_type": "code",
   "execution_count": 299,
   "id": "4ec36246",
   "metadata": {},
   "outputs": [
    {
     "data": {
      "text/plain": [
       "month            0\n",
       "day              0\n",
       "FFMC             0\n",
       "DMC              0\n",
       "DC               0\n",
       "ISI              0\n",
       "temp             0\n",
       "RH               0\n",
       "wind             0\n",
       "rain             0\n",
       "area             0\n",
       "dayfri           0\n",
       "daymon           0\n",
       "daysat           0\n",
       "daysun           0\n",
       "daythu           0\n",
       "daytue           0\n",
       "daywed           0\n",
       "monthapr         0\n",
       "monthaug         0\n",
       "monthdec         0\n",
       "monthfeb         0\n",
       "monthjan         0\n",
       "monthjul         0\n",
       "monthjun         0\n",
       "monthmar         0\n",
       "monthmay         0\n",
       "monthnov         0\n",
       "monthoct         0\n",
       "monthsep         0\n",
       "size_category    0\n",
       "dtype: int64"
      ]
     },
     "execution_count": 299,
     "metadata": {},
     "output_type": "execute_result"
    }
   ],
   "source": [
    "data.isnull().sum()"
   ]
  },
  {
   "cell_type": "markdown",
   "id": "abce163c",
   "metadata": {},
   "source": [
    "**no null value**"
   ]
  },
  {
   "cell_type": "code",
   "execution_count": 300,
   "id": "ae1ea314",
   "metadata": {},
   "outputs": [
    {
     "data": {
      "text/html": [
       "<div>\n",
       "<style scoped>\n",
       "    .dataframe tbody tr th:only-of-type {\n",
       "        vertical-align: middle;\n",
       "    }\n",
       "\n",
       "    .dataframe tbody tr th {\n",
       "        vertical-align: top;\n",
       "    }\n",
       "\n",
       "    .dataframe thead th {\n",
       "        text-align: right;\n",
       "    }\n",
       "</style>\n",
       "<table border=\"1\" class=\"dataframe\">\n",
       "  <thead>\n",
       "    <tr style=\"text-align: right;\">\n",
       "      <th></th>\n",
       "      <th>count</th>\n",
       "      <th>mean</th>\n",
       "      <th>std</th>\n",
       "      <th>min</th>\n",
       "      <th>25%</th>\n",
       "      <th>50%</th>\n",
       "      <th>75%</th>\n",
       "      <th>max</th>\n",
       "    </tr>\n",
       "  </thead>\n",
       "  <tbody>\n",
       "    <tr>\n",
       "      <th>FFMC</th>\n",
       "      <td>517.0</td>\n",
       "      <td>90.644681</td>\n",
       "      <td>5.520111</td>\n",
       "      <td>18.7</td>\n",
       "      <td>90.2</td>\n",
       "      <td>91.60</td>\n",
       "      <td>92.90</td>\n",
       "      <td>96.20</td>\n",
       "    </tr>\n",
       "    <tr>\n",
       "      <th>DMC</th>\n",
       "      <td>517.0</td>\n",
       "      <td>110.872340</td>\n",
       "      <td>64.046482</td>\n",
       "      <td>1.1</td>\n",
       "      <td>68.6</td>\n",
       "      <td>108.30</td>\n",
       "      <td>142.40</td>\n",
       "      <td>291.30</td>\n",
       "    </tr>\n",
       "    <tr>\n",
       "      <th>DC</th>\n",
       "      <td>517.0</td>\n",
       "      <td>547.940039</td>\n",
       "      <td>248.066192</td>\n",
       "      <td>7.9</td>\n",
       "      <td>437.7</td>\n",
       "      <td>664.20</td>\n",
       "      <td>713.90</td>\n",
       "      <td>860.60</td>\n",
       "    </tr>\n",
       "    <tr>\n",
       "      <th>ISI</th>\n",
       "      <td>517.0</td>\n",
       "      <td>9.021663</td>\n",
       "      <td>4.559477</td>\n",
       "      <td>0.0</td>\n",
       "      <td>6.5</td>\n",
       "      <td>8.40</td>\n",
       "      <td>10.80</td>\n",
       "      <td>56.10</td>\n",
       "    </tr>\n",
       "    <tr>\n",
       "      <th>temp</th>\n",
       "      <td>517.0</td>\n",
       "      <td>18.889168</td>\n",
       "      <td>5.806625</td>\n",
       "      <td>2.2</td>\n",
       "      <td>15.5</td>\n",
       "      <td>19.30</td>\n",
       "      <td>22.80</td>\n",
       "      <td>33.30</td>\n",
       "    </tr>\n",
       "    <tr>\n",
       "      <th>RH</th>\n",
       "      <td>517.0</td>\n",
       "      <td>44.288201</td>\n",
       "      <td>16.317469</td>\n",
       "      <td>15.0</td>\n",
       "      <td>33.0</td>\n",
       "      <td>42.00</td>\n",
       "      <td>53.00</td>\n",
       "      <td>100.00</td>\n",
       "    </tr>\n",
       "    <tr>\n",
       "      <th>wind</th>\n",
       "      <td>517.0</td>\n",
       "      <td>4.017602</td>\n",
       "      <td>1.791653</td>\n",
       "      <td>0.4</td>\n",
       "      <td>2.7</td>\n",
       "      <td>4.00</td>\n",
       "      <td>4.90</td>\n",
       "      <td>9.40</td>\n",
       "    </tr>\n",
       "    <tr>\n",
       "      <th>rain</th>\n",
       "      <td>517.0</td>\n",
       "      <td>0.021663</td>\n",
       "      <td>0.295959</td>\n",
       "      <td>0.0</td>\n",
       "      <td>0.0</td>\n",
       "      <td>0.00</td>\n",
       "      <td>0.00</td>\n",
       "      <td>6.40</td>\n",
       "    </tr>\n",
       "    <tr>\n",
       "      <th>area</th>\n",
       "      <td>517.0</td>\n",
       "      <td>12.847292</td>\n",
       "      <td>63.655818</td>\n",
       "      <td>0.0</td>\n",
       "      <td>0.0</td>\n",
       "      <td>0.52</td>\n",
       "      <td>6.57</td>\n",
       "      <td>1090.84</td>\n",
       "    </tr>\n",
       "    <tr>\n",
       "      <th>dayfri</th>\n",
       "      <td>517.0</td>\n",
       "      <td>0.164410</td>\n",
       "      <td>0.371006</td>\n",
       "      <td>0.0</td>\n",
       "      <td>0.0</td>\n",
       "      <td>0.00</td>\n",
       "      <td>0.00</td>\n",
       "      <td>1.00</td>\n",
       "    </tr>\n",
       "    <tr>\n",
       "      <th>daymon</th>\n",
       "      <td>517.0</td>\n",
       "      <td>0.143133</td>\n",
       "      <td>0.350548</td>\n",
       "      <td>0.0</td>\n",
       "      <td>0.0</td>\n",
       "      <td>0.00</td>\n",
       "      <td>0.00</td>\n",
       "      <td>1.00</td>\n",
       "    </tr>\n",
       "    <tr>\n",
       "      <th>daysat</th>\n",
       "      <td>517.0</td>\n",
       "      <td>0.162476</td>\n",
       "      <td>0.369244</td>\n",
       "      <td>0.0</td>\n",
       "      <td>0.0</td>\n",
       "      <td>0.00</td>\n",
       "      <td>0.00</td>\n",
       "      <td>1.00</td>\n",
       "    </tr>\n",
       "    <tr>\n",
       "      <th>daysun</th>\n",
       "      <td>517.0</td>\n",
       "      <td>0.183752</td>\n",
       "      <td>0.387657</td>\n",
       "      <td>0.0</td>\n",
       "      <td>0.0</td>\n",
       "      <td>0.00</td>\n",
       "      <td>0.00</td>\n",
       "      <td>1.00</td>\n",
       "    </tr>\n",
       "    <tr>\n",
       "      <th>daythu</th>\n",
       "      <td>517.0</td>\n",
       "      <td>0.117988</td>\n",
       "      <td>0.322907</td>\n",
       "      <td>0.0</td>\n",
       "      <td>0.0</td>\n",
       "      <td>0.00</td>\n",
       "      <td>0.00</td>\n",
       "      <td>1.00</td>\n",
       "    </tr>\n",
       "    <tr>\n",
       "      <th>daytue</th>\n",
       "      <td>517.0</td>\n",
       "      <td>0.123791</td>\n",
       "      <td>0.329662</td>\n",
       "      <td>0.0</td>\n",
       "      <td>0.0</td>\n",
       "      <td>0.00</td>\n",
       "      <td>0.00</td>\n",
       "      <td>1.00</td>\n",
       "    </tr>\n",
       "    <tr>\n",
       "      <th>daywed</th>\n",
       "      <td>517.0</td>\n",
       "      <td>0.104449</td>\n",
       "      <td>0.306138</td>\n",
       "      <td>0.0</td>\n",
       "      <td>0.0</td>\n",
       "      <td>0.00</td>\n",
       "      <td>0.00</td>\n",
       "      <td>1.00</td>\n",
       "    </tr>\n",
       "    <tr>\n",
       "      <th>monthapr</th>\n",
       "      <td>517.0</td>\n",
       "      <td>0.017408</td>\n",
       "      <td>0.130913</td>\n",
       "      <td>0.0</td>\n",
       "      <td>0.0</td>\n",
       "      <td>0.00</td>\n",
       "      <td>0.00</td>\n",
       "      <td>1.00</td>\n",
       "    </tr>\n",
       "    <tr>\n",
       "      <th>monthaug</th>\n",
       "      <td>517.0</td>\n",
       "      <td>0.355899</td>\n",
       "      <td>0.479249</td>\n",
       "      <td>0.0</td>\n",
       "      <td>0.0</td>\n",
       "      <td>0.00</td>\n",
       "      <td>1.00</td>\n",
       "      <td>1.00</td>\n",
       "    </tr>\n",
       "    <tr>\n",
       "      <th>monthdec</th>\n",
       "      <td>517.0</td>\n",
       "      <td>0.017408</td>\n",
       "      <td>0.130913</td>\n",
       "      <td>0.0</td>\n",
       "      <td>0.0</td>\n",
       "      <td>0.00</td>\n",
       "      <td>0.00</td>\n",
       "      <td>1.00</td>\n",
       "    </tr>\n",
       "    <tr>\n",
       "      <th>monthfeb</th>\n",
       "      <td>517.0</td>\n",
       "      <td>0.038685</td>\n",
       "      <td>0.193029</td>\n",
       "      <td>0.0</td>\n",
       "      <td>0.0</td>\n",
       "      <td>0.00</td>\n",
       "      <td>0.00</td>\n",
       "      <td>1.00</td>\n",
       "    </tr>\n",
       "    <tr>\n",
       "      <th>monthjan</th>\n",
       "      <td>517.0</td>\n",
       "      <td>0.003868</td>\n",
       "      <td>0.062137</td>\n",
       "      <td>0.0</td>\n",
       "      <td>0.0</td>\n",
       "      <td>0.00</td>\n",
       "      <td>0.00</td>\n",
       "      <td>1.00</td>\n",
       "    </tr>\n",
       "    <tr>\n",
       "      <th>monthjul</th>\n",
       "      <td>517.0</td>\n",
       "      <td>0.061896</td>\n",
       "      <td>0.241199</td>\n",
       "      <td>0.0</td>\n",
       "      <td>0.0</td>\n",
       "      <td>0.00</td>\n",
       "      <td>0.00</td>\n",
       "      <td>1.00</td>\n",
       "    </tr>\n",
       "    <tr>\n",
       "      <th>monthjun</th>\n",
       "      <td>517.0</td>\n",
       "      <td>0.032882</td>\n",
       "      <td>0.178500</td>\n",
       "      <td>0.0</td>\n",
       "      <td>0.0</td>\n",
       "      <td>0.00</td>\n",
       "      <td>0.00</td>\n",
       "      <td>1.00</td>\n",
       "    </tr>\n",
       "    <tr>\n",
       "      <th>monthmar</th>\n",
       "      <td>517.0</td>\n",
       "      <td>0.104449</td>\n",
       "      <td>0.306138</td>\n",
       "      <td>0.0</td>\n",
       "      <td>0.0</td>\n",
       "      <td>0.00</td>\n",
       "      <td>0.00</td>\n",
       "      <td>1.00</td>\n",
       "    </tr>\n",
       "    <tr>\n",
       "      <th>monthmay</th>\n",
       "      <td>517.0</td>\n",
       "      <td>0.003868</td>\n",
       "      <td>0.062137</td>\n",
       "      <td>0.0</td>\n",
       "      <td>0.0</td>\n",
       "      <td>0.00</td>\n",
       "      <td>0.00</td>\n",
       "      <td>1.00</td>\n",
       "    </tr>\n",
       "    <tr>\n",
       "      <th>monthnov</th>\n",
       "      <td>517.0</td>\n",
       "      <td>0.001934</td>\n",
       "      <td>0.043980</td>\n",
       "      <td>0.0</td>\n",
       "      <td>0.0</td>\n",
       "      <td>0.00</td>\n",
       "      <td>0.00</td>\n",
       "      <td>1.00</td>\n",
       "    </tr>\n",
       "    <tr>\n",
       "      <th>monthoct</th>\n",
       "      <td>517.0</td>\n",
       "      <td>0.029014</td>\n",
       "      <td>0.168007</td>\n",
       "      <td>0.0</td>\n",
       "      <td>0.0</td>\n",
       "      <td>0.00</td>\n",
       "      <td>0.00</td>\n",
       "      <td>1.00</td>\n",
       "    </tr>\n",
       "    <tr>\n",
       "      <th>monthsep</th>\n",
       "      <td>517.0</td>\n",
       "      <td>0.332689</td>\n",
       "      <td>0.471632</td>\n",
       "      <td>0.0</td>\n",
       "      <td>0.0</td>\n",
       "      <td>0.00</td>\n",
       "      <td>1.00</td>\n",
       "      <td>1.00</td>\n",
       "    </tr>\n",
       "  </tbody>\n",
       "</table>\n",
       "</div>"
      ],
      "text/plain": [
       "          count        mean         std   min    25%     50%     75%      max\n",
       "FFMC      517.0   90.644681    5.520111  18.7   90.2   91.60   92.90    96.20\n",
       "DMC       517.0  110.872340   64.046482   1.1   68.6  108.30  142.40   291.30\n",
       "DC        517.0  547.940039  248.066192   7.9  437.7  664.20  713.90   860.60\n",
       "ISI       517.0    9.021663    4.559477   0.0    6.5    8.40   10.80    56.10\n",
       "temp      517.0   18.889168    5.806625   2.2   15.5   19.30   22.80    33.30\n",
       "RH        517.0   44.288201   16.317469  15.0   33.0   42.00   53.00   100.00\n",
       "wind      517.0    4.017602    1.791653   0.4    2.7    4.00    4.90     9.40\n",
       "rain      517.0    0.021663    0.295959   0.0    0.0    0.00    0.00     6.40\n",
       "area      517.0   12.847292   63.655818   0.0    0.0    0.52    6.57  1090.84\n",
       "dayfri    517.0    0.164410    0.371006   0.0    0.0    0.00    0.00     1.00\n",
       "daymon    517.0    0.143133    0.350548   0.0    0.0    0.00    0.00     1.00\n",
       "daysat    517.0    0.162476    0.369244   0.0    0.0    0.00    0.00     1.00\n",
       "daysun    517.0    0.183752    0.387657   0.0    0.0    0.00    0.00     1.00\n",
       "daythu    517.0    0.117988    0.322907   0.0    0.0    0.00    0.00     1.00\n",
       "daytue    517.0    0.123791    0.329662   0.0    0.0    0.00    0.00     1.00\n",
       "daywed    517.0    0.104449    0.306138   0.0    0.0    0.00    0.00     1.00\n",
       "monthapr  517.0    0.017408    0.130913   0.0    0.0    0.00    0.00     1.00\n",
       "monthaug  517.0    0.355899    0.479249   0.0    0.0    0.00    1.00     1.00\n",
       "monthdec  517.0    0.017408    0.130913   0.0    0.0    0.00    0.00     1.00\n",
       "monthfeb  517.0    0.038685    0.193029   0.0    0.0    0.00    0.00     1.00\n",
       "monthjan  517.0    0.003868    0.062137   0.0    0.0    0.00    0.00     1.00\n",
       "monthjul  517.0    0.061896    0.241199   0.0    0.0    0.00    0.00     1.00\n",
       "monthjun  517.0    0.032882    0.178500   0.0    0.0    0.00    0.00     1.00\n",
       "monthmar  517.0    0.104449    0.306138   0.0    0.0    0.00    0.00     1.00\n",
       "monthmay  517.0    0.003868    0.062137   0.0    0.0    0.00    0.00     1.00\n",
       "monthnov  517.0    0.001934    0.043980   0.0    0.0    0.00    0.00     1.00\n",
       "monthoct  517.0    0.029014    0.168007   0.0    0.0    0.00    0.00     1.00\n",
       "monthsep  517.0    0.332689    0.471632   0.0    0.0    0.00    1.00     1.00"
      ]
     },
     "execution_count": 300,
     "metadata": {},
     "output_type": "execute_result"
    }
   ],
   "source": [
    "data.describe().T"
   ]
  },
  {
   "cell_type": "code",
   "execution_count": 301,
   "id": "960ecf06",
   "metadata": {},
   "outputs": [
    {
     "data": {
      "text/plain": [
       "0.00      247\n",
       "1.94        3\n",
       "0.52        2\n",
       "3.71        2\n",
       "0.68        2\n",
       "         ... \n",
       "105.66      1\n",
       "154.88      1\n",
       "196.48      1\n",
       "200.94      1\n",
       "11.16       1\n",
       "Name: area, Length: 251, dtype: int64"
      ]
     },
     "execution_count": 301,
     "metadata": {},
     "output_type": "execute_result"
    }
   ],
   "source": [
    "data.area.value_counts()"
   ]
  },
  {
   "cell_type": "code",
   "execution_count": 302,
   "id": "6e21d78c",
   "metadata": {},
   "outputs": [
    {
     "data": {
      "image/png": "[encoded data removed]",
      "text/plain": [
       "<Figure size 640x480 with 2 Axes>"
      ]
     },
     "metadata": {},
     "output_type": "display_data"
    }
   ],
   "source": [
    "plt.subplot(2, 1, 1)\n",
    "plt.boxplot(data.area)\n",
    "plt.ylabel(\"count\")\n",
    "plt.subplot(2, 1, 2)\n",
    "sns.kdeplot(data.area)\n",
    "plt.show()"
   ]
  },
  {
   "cell_type": "markdown",
   "id": "eecf704e",
   "metadata": {},
   "source": [
    "**input variable \"area\" has distribution with avery long tail and outliers are present. most of the data under 150 hecters of area** "
   ]
  },
  {
   "cell_type": "code",
   "execution_count": 303,
   "id": "f92d70ce",
   "metadata": {},
   "outputs": [
    {
     "data": {
      "text/html": [
       "<div>\n",
       "<style scoped>\n",
       "    .dataframe tbody tr th:only-of-type {\n",
       "        vertical-align: middle;\n",
       "    }\n",
       "\n",
       "    .dataframe tbody tr th {\n",
       "        vertical-align: top;\n",
       "    }\n",
       "\n",
       "    .dataframe thead th {\n",
       "        text-align: right;\n",
       "    }\n",
       "</style>\n",
       "<table border=\"1\" class=\"dataframe\">\n",
       "  <thead>\n",
       "    <tr style=\"text-align: right;\">\n",
       "      <th></th>\n",
       "      <th>month</th>\n",
       "      <th>day</th>\n",
       "      <th>area</th>\n",
       "      <th>size_category</th>\n",
       "    </tr>\n",
       "  </thead>\n",
       "  <tbody>\n",
       "    <tr>\n",
       "      <th>238</th>\n",
       "      <td>sep</td>\n",
       "      <td>sat</td>\n",
       "      <td>1090.84</td>\n",
       "      <td>large</td>\n",
       "    </tr>\n",
       "    <tr>\n",
       "      <th>415</th>\n",
       "      <td>aug</td>\n",
       "      <td>thu</td>\n",
       "      <td>746.28</td>\n",
       "      <td>large</td>\n",
       "    </tr>\n",
       "    <tr>\n",
       "      <th>479</th>\n",
       "      <td>jul</td>\n",
       "      <td>mon</td>\n",
       "      <td>278.53</td>\n",
       "      <td>large</td>\n",
       "    </tr>\n",
       "  </tbody>\n",
       "</table>\n",
       "</div>"
      ],
      "text/plain": [
       "    month  day     area size_category\n",
       "238   sep  sat  1090.84         large\n",
       "415   aug  thu   746.28         large\n",
       "479   jul  mon   278.53         large"
      ]
     },
     "execution_count": 303,
     "metadata": {},
     "output_type": "execute_result"
    }
   ],
   "source": [
    "big_fires = data.loc[data.area>250,[\"month\",\"day\",\"area\",\"size_category\"]]\n",
    "big_fires"
   ]
  },
  {
   "cell_type": "code",
   "execution_count": 304,
   "id": "aadc14a5",
   "metadata": {},
   "outputs": [
    {
     "data": {
      "text/plain": [
       "month\n",
       "sep      51\n",
       "aug      43\n",
       "mar      12\n",
       "jul       9\n",
       "dec       8\n",
       "feb       6\n",
       "oct       4\n",
       "jun       3\n",
       "apr       2\n",
       "may       1\n",
       "dtype: int64"
      ]
     },
     "execution_count": 304,
     "metadata": {},
     "output_type": "execute_result"
    }
   ],
   "source": [
    "large_fires = data.loc[data.size_category == 'large',[\"month\",\"day\",\"area\",\"size_category\"]]\n",
    "large_fires[[\"month\"]].value_counts()"
   ]
  },
  {
   "cell_type": "markdown",
   "id": "751e5fde",
   "metadata": {},
   "source": [
    "**most of the large fire incidences happened in the month of Augest and September.**"
   ]
  },
  {
   "cell_type": "code",
   "execution_count": 305,
   "id": "5d0a1521",
   "metadata": {},
   "outputs": [],
   "source": [
    "#dropping data with outliers\n",
    "data_new = data.drop(data.loc[data.area>250].index, axis = 0)"
   ]
  },
  {
   "cell_type": "code",
   "execution_count": 306,
   "id": "aa29ea4d",
   "metadata": {},
   "outputs": [
    {
     "name": "stdout",
     "output_type": "stream",
     "text": [
      "(517, 31)\n",
      "(514, 31)\n"
     ]
    }
   ],
   "source": [
    "print(data.shape)\n",
    "print(data_new.shape)"
   ]
  },
  {
   "cell_type": "code",
   "execution_count": 307,
   "id": "8a7350cd",
   "metadata": {},
   "outputs": [
    {
     "data": {
      "image/png": "[encoded data removed]",
      "text/plain": [
       "<Figure size 640x480 with 1 Axes>"
      ]
     },
     "metadata": {},
     "output_type": "display_data"
    }
   ],
   "source": [
    "plt.boxplot(data_new.area)\n",
    "plt.show()"
   ]
  },
  {
   "cell_type": "code",
   "execution_count": 308,
   "id": "0f09119d",
   "metadata": {},
   "outputs": [
    {
     "name": "stdout",
     "output_type": "stream",
     "text": [
      "Skew: 5.363445236371602\n",
      "Kurtosis: 34.13265647425658\n"
     ]
    },
    {
     "data": {
      "image/png": "[encoded data removed]",
      "text/plain": [
       "<Figure size 1600x500 with 1 Axes>"
      ]
     },
     "metadata": {},
     "output_type": "display_data"
    }
   ],
   "source": [
    "plt.figure(figsize=(16,5))\n",
    "print(\"Skew: {}\".format(data_new['area'].skew()))\n",
    "print(\"Kurtosis: {}\".format(data_new['area'].kurtosis()))\n",
    "ax = sns.kdeplot(data_new['area'],shade=True,color='g')\n",
    "plt.xticks([i for i in range(0,300,50)])\n",
    "plt.show()\n"
   ]
  },
  {
   "cell_type": "code",
   "execution_count": 309,
   "id": "06fb226c",
   "metadata": {},
   "outputs": [
    {
     "name": "stdout",
     "output_type": "stream",
     "text": [
      "small    378\n",
      "large    136\n",
      "Name: size_category, dtype: int64\n"
     ]
    },
    {
     "name": "stderr",
     "output_type": "stream",
     "text": [
      "C:\\Users\\Renu\\anaconda3\\lib\\site-packages\\seaborn\\_decorators.py:36: FutureWarning: Pass the following variable as a keyword arg: x. From version 0.12, the only valid positional argument will be `data`, and passing other arguments without an explicit keyword will result in an error or misinterpretation.\n",
      "  warnings.warn(\n"
     ]
    },
    {
     "data": {
      "text/plain": [
       "<AxesSubplot:xlabel='size_category', ylabel='count'>"
      ]
     },
     "execution_count": 309,
     "metadata": {},
     "output_type": "execute_result"
    },
    {
     "data": {
      "image/png": "[encoded data removed]",
      "text/plain": [
       "<Figure size 640x480 with 1 Axes>"
      ]
     },
     "metadata": {},
     "output_type": "display_data"
    }
   ],
   "source": [
    "print(data_new[\"size_category\"].value_counts())\n",
    "sns.countplot(data_new[\"size_category\"])"
   ]
  },
  {
   "cell_type": "code",
   "execution_count": 310,
   "id": "5ceecb30",
   "metadata": {},
   "outputs": [],
   "source": [
    "# since month and day already has dummy indices in the dataset, the two columns can be dropped\n",
    "data_new.drop([\"month\", \"day\"], axis = 1, inplace = True)"
   ]
  },
  {
   "cell_type": "code",
   "execution_count": 311,
   "id": "441eef13",
   "metadata": {},
   "outputs": [
    {
     "data": {
      "image/png": "[encoded data removed]",
      "text/plain": [
       "<Figure size 1000x1000 with 2 Axes>"
      ]
     },
     "metadata": {},
     "output_type": "display_data"
    }
   ],
   "source": [
    "#corr between the numerical input variables\n",
    "df = data_new.iloc[:,:9]\n",
    "plt.figure(figsize = (10,10))\n",
    "sns.heatmap(df.corr(),\n",
    "           annot=True)\n",
    "plt.show()"
   ]
  },
  {
   "cell_type": "code",
   "execution_count": 312,
   "id": "75d58862",
   "metadata": {},
   "outputs": [
    {
     "data": {
      "text/plain": [
       "<AxesSubplot:>"
      ]
     },
     "execution_count": 312,
     "metadata": {},
     "output_type": "execute_result"
    },
    {
     "data": {
      "image/png": "[encoded data removed]",
      "text/plain": [
       "<Figure size 640x480 with 1 Axes>"
      ]
     },
     "metadata": {},
     "output_type": "display_data"
    }
   ],
   "source": [
    "# box plot for the numerical input variables\n",
    "df.boxplot()"
   ]
  },
  {
   "cell_type": "code",
   "execution_count": 313,
   "id": "c1fb8a30",
   "metadata": {},
   "outputs": [],
   "source": [
    "df_input = data_new.iloc[:,0:28]\n",
    "Y = data_new.iloc[:,28]\n"
   ]
  },
  {
   "cell_type": "code",
   "execution_count": 314,
   "id": "717e53de",
   "metadata": {},
   "outputs": [
    {
     "data": {
      "text/html": [
       "<div>\n",
       "<style scoped>\n",
       "    .dataframe tbody tr th:only-of-type {\n",
       "        vertical-align: middle;\n",
       "    }\n",
       "\n",
       "    .dataframe tbody tr th {\n",
       "        vertical-align: top;\n",
       "    }\n",
       "\n",
       "    .dataframe thead th {\n",
       "        text-align: right;\n",
       "    }\n",
       "</style>\n",
       "<table border=\"1\" class=\"dataframe\">\n",
       "  <thead>\n",
       "    <tr style=\"text-align: right;\">\n",
       "      <th></th>\n",
       "      <th>FFMC</th>\n",
       "      <th>DMC</th>\n",
       "      <th>DC</th>\n",
       "      <th>ISI</th>\n",
       "      <th>temp</th>\n",
       "      <th>RH</th>\n",
       "      <th>wind</th>\n",
       "      <th>rain</th>\n",
       "      <th>area</th>\n",
       "      <th>dayfri</th>\n",
       "      <th>...</th>\n",
       "      <th>monthdec</th>\n",
       "      <th>monthfeb</th>\n",
       "      <th>monthjan</th>\n",
       "      <th>monthjul</th>\n",
       "      <th>monthjun</th>\n",
       "      <th>monthmar</th>\n",
       "      <th>monthmay</th>\n",
       "      <th>monthnov</th>\n",
       "      <th>monthoct</th>\n",
       "      <th>monthsep</th>\n",
       "    </tr>\n",
       "  </thead>\n",
       "  <tbody>\n",
       "    <tr>\n",
       "      <th>0</th>\n",
       "      <td>0.870968</td>\n",
       "      <td>0.086492</td>\n",
       "      <td>0.101325</td>\n",
       "      <td>0.090909</td>\n",
       "      <td>0.192926</td>\n",
       "      <td>0.423529</td>\n",
       "      <td>0.700000</td>\n",
       "      <td>0.00000</td>\n",
       "      <td>0.0</td>\n",
       "      <td>1.0</td>\n",
       "      <td>...</td>\n",
       "      <td>0.0</td>\n",
       "      <td>0.0</td>\n",
       "      <td>0.0</td>\n",
       "      <td>0.0</td>\n",
       "      <td>0.0</td>\n",
       "      <td>1.0</td>\n",
       "      <td>0.0</td>\n",
       "      <td>0.0</td>\n",
       "      <td>0.0</td>\n",
       "      <td>0.0</td>\n",
       "    </tr>\n",
       "    <tr>\n",
       "      <th>1</th>\n",
       "      <td>0.927742</td>\n",
       "      <td>0.118194</td>\n",
       "      <td>0.775419</td>\n",
       "      <td>0.119430</td>\n",
       "      <td>0.508039</td>\n",
       "      <td>0.211765</td>\n",
       "      <td>0.055556</td>\n",
       "      <td>0.00000</td>\n",
       "      <td>0.0</td>\n",
       "      <td>0.0</td>\n",
       "      <td>...</td>\n",
       "      <td>0.0</td>\n",
       "      <td>0.0</td>\n",
       "      <td>0.0</td>\n",
       "      <td>0.0</td>\n",
       "      <td>0.0</td>\n",
       "      <td>0.0</td>\n",
       "      <td>0.0</td>\n",
       "      <td>0.0</td>\n",
       "      <td>1.0</td>\n",
       "      <td>0.0</td>\n",
       "    </tr>\n",
       "    <tr>\n",
       "      <th>2</th>\n",
       "      <td>0.927742</td>\n",
       "      <td>0.146795</td>\n",
       "      <td>0.796294</td>\n",
       "      <td>0.119430</td>\n",
       "      <td>0.398714</td>\n",
       "      <td>0.211765</td>\n",
       "      <td>0.100000</td>\n",
       "      <td>0.00000</td>\n",
       "      <td>0.0</td>\n",
       "      <td>0.0</td>\n",
       "      <td>...</td>\n",
       "      <td>0.0</td>\n",
       "      <td>0.0</td>\n",
       "      <td>0.0</td>\n",
       "      <td>0.0</td>\n",
       "      <td>0.0</td>\n",
       "      <td>0.0</td>\n",
       "      <td>0.0</td>\n",
       "      <td>0.0</td>\n",
       "      <td>1.0</td>\n",
       "      <td>0.0</td>\n",
       "    </tr>\n",
       "    <tr>\n",
       "      <th>3</th>\n",
       "      <td>0.941935</td>\n",
       "      <td>0.110958</td>\n",
       "      <td>0.081623</td>\n",
       "      <td>0.160428</td>\n",
       "      <td>0.196141</td>\n",
       "      <td>0.964706</td>\n",
       "      <td>0.400000</td>\n",
       "      <td>0.03125</td>\n",
       "      <td>0.0</td>\n",
       "      <td>1.0</td>\n",
       "      <td>...</td>\n",
       "      <td>0.0</td>\n",
       "      <td>0.0</td>\n",
       "      <td>0.0</td>\n",
       "      <td>0.0</td>\n",
       "      <td>0.0</td>\n",
       "      <td>1.0</td>\n",
       "      <td>0.0</td>\n",
       "      <td>0.0</td>\n",
       "      <td>0.0</td>\n",
       "      <td>0.0</td>\n",
       "    </tr>\n",
       "    <tr>\n",
       "      <th>4</th>\n",
       "      <td>0.910968</td>\n",
       "      <td>0.172984</td>\n",
       "      <td>0.110590</td>\n",
       "      <td>0.171123</td>\n",
       "      <td>0.295820</td>\n",
       "      <td>0.988235</td>\n",
       "      <td>0.155556</td>\n",
       "      <td>0.00000</td>\n",
       "      <td>0.0</td>\n",
       "      <td>0.0</td>\n",
       "      <td>...</td>\n",
       "      <td>0.0</td>\n",
       "      <td>0.0</td>\n",
       "      <td>0.0</td>\n",
       "      <td>0.0</td>\n",
       "      <td>0.0</td>\n",
       "      <td>1.0</td>\n",
       "      <td>0.0</td>\n",
       "      <td>0.0</td>\n",
       "      <td>0.0</td>\n",
       "      <td>0.0</td>\n",
       "    </tr>\n",
       "  </tbody>\n",
       "</table>\n",
       "<p>5 rows × 28 columns</p>\n",
       "</div>"
      ],
      "text/plain": [
       "       FFMC       DMC        DC       ISI      temp        RH      wind  \\\n",
       "0  0.870968  0.086492  0.101325  0.090909  0.192926  0.423529  0.700000   \n",
       "1  0.927742  0.118194  0.775419  0.119430  0.508039  0.211765  0.055556   \n",
       "2  0.927742  0.146795  0.796294  0.119430  0.398714  0.211765  0.100000   \n",
       "3  0.941935  0.110958  0.081623  0.160428  0.196141  0.964706  0.400000   \n",
       "4  0.910968  0.172984  0.110590  0.171123  0.295820  0.988235  0.155556   \n",
       "\n",
       "      rain  area  dayfri  ...  monthdec  monthfeb  monthjan  monthjul  \\\n",
       "0  0.00000   0.0     1.0  ...       0.0       0.0       0.0       0.0   \n",
       "1  0.00000   0.0     0.0  ...       0.0       0.0       0.0       0.0   \n",
       "2  0.00000   0.0     0.0  ...       0.0       0.0       0.0       0.0   \n",
       "3  0.03125   0.0     1.0  ...       0.0       0.0       0.0       0.0   \n",
       "4  0.00000   0.0     0.0  ...       0.0       0.0       0.0       0.0   \n",
       "\n",
       "   monthjun  monthmar  monthmay  monthnov  monthoct  monthsep  \n",
       "0       0.0       1.0       0.0       0.0       0.0       0.0  \n",
       "1       0.0       0.0       0.0       0.0       1.0       0.0  \n",
       "2       0.0       0.0       0.0       0.0       1.0       0.0  \n",
       "3       0.0       1.0       0.0       0.0       0.0       0.0  \n",
       "4       0.0       1.0       0.0       0.0       0.0       0.0  \n",
       "\n",
       "[5 rows x 28 columns]"
      ]
     },
     "execution_count": 314,
     "metadata": {},
     "output_type": "execute_result"
    }
   ],
   "source": [
    "#data standerdization for numerical input variables\n",
    "scaler = MinMaxScaler()\n",
    "X = pd.DataFrame(scaler.fit_transform(df_input))\n",
    "X.columns = df_input.columns\n",
    "X.head()"
   ]
  },
  {
   "cell_type": "code",
   "execution_count": 315,
   "id": "ae0f560b",
   "metadata": {},
   "outputs": [
    {
     "data": {
      "text/plain": [
       "<AxesSubplot:>"
      ]
     },
     "execution_count": 315,
     "metadata": {},
     "output_type": "execute_result"
    },
    {
     "data": {
      "image/png": "[encoded data removed]",
      "text/plain": [
       "<Figure size 640x480 with 1 Axes>"
      ]
     },
     "metadata": {},
     "output_type": "display_data"
    }
   ],
   "source": [
    "X.iloc[:,:9].boxplot()"
   ]
  },
  {
   "cell_type": "code",
   "execution_count": 316,
   "id": "a871cd85",
   "metadata": {
    "scrolled": false
   },
   "outputs": [
    {
     "data": {
      "text/plain": [
       "0      1\n",
       "1      1\n",
       "2      1\n",
       "3      1\n",
       "4      1\n",
       "      ..\n",
       "512    2\n",
       "513    2\n",
       "514    2\n",
       "515    1\n",
       "516    1\n",
       "Name: size_category, Length: 514, dtype: int64"
      ]
     },
     "execution_count": 316,
     "metadata": {},
     "output_type": "execute_result"
    }
   ],
   "source": [
    "# labeling size_category\n",
    "mapping = {'small': 1, 'large': 2}\n",
    "Y= Y.replace(mapping)\n",
    "Y"
   ]
  },
  {
   "cell_type": "code",
   "execution_count": 317,
   "id": "d2593d77",
   "metadata": {},
   "outputs": [
    {
     "name": "stdout",
     "output_type": "stream",
     "text": [
      "Original dataset shape Counter({1: 302, 2: 109})\n",
      "Resampled dataset shape Counter({2: 302, 1: 302})\n"
     ]
    }
   ],
   "source": [
    "x_train, x_valid, y_train, y_valid = train_test_split(X, Y, train_size = 0.80, random_state = 42, stratify = Y)\n",
    "\n",
    "from imblearn.over_sampling import RandomOverSampler\n",
    "method = RandomOverSampler(random_state=42, sampling_strategy= 'minority')\n",
    "x_resampled, y_resampled =  method.fit_resample(x_train, y_train)\n",
    "print('Original dataset shape %s' % Counter(y_train))\n",
    "print('Resampled dataset shape %s' % Counter(y_resampled))\n"
   ]
  },
  {
   "cell_type": "code",
   "execution_count": 333,
   "id": "b2ca005e",
   "metadata": {},
   "outputs": [
    {
     "data": {
      "text/plain": [
       "(604, 28)"
      ]
     },
     "execution_count": 333,
     "metadata": {},
     "output_type": "execute_result"
    }
   ],
   "source": [
    "x = np.array(x_resampled)\n",
    "y = np.array(y_resampled)\n",
    "x.shape"
   ]
  },
  {
   "cell_type": "markdown",
   "id": "81495410",
   "metadata": {},
   "source": [
    "# Model preparation\n",
    "**using Grid Search**"
   ]
  },
  {
   "cell_type": "code",
   "execution_count": 319,
   "id": "2369cfa8",
   "metadata": {},
   "outputs": [],
   "source": [
    "#Tuning Epoch and batch size\n",
    "# create model\n",
    "from sklearn.model_selection import GridSearchCV, KFold\n",
    "def create_model():\n",
    "    model = Sequential(name='Hypterparameter-Tuning-Dummy')\n",
    "    model.add(Dense(12, input_dim=28, kernel_initializer='uniform', activation='relu'))\n",
    "    model.add(Dense(8,kernel_initializer='uniform', activation='relu'))\n",
    "    model.add(Dense(1, kernel_initializer='uniform', activation='sigmoid'))\n",
    "    \n",
    "    adam=Adam(learning_rate=0.01)\n",
    "    model.compile(loss='binary_crossentropy', optimizer=adam, metrics=['accuracy'])\n",
    "    return model"
   ]
  },
  {
   "cell_type": "code",
   "execution_count": 320,
   "id": "4044aabb",
   "metadata": {
    "scrolled": true
   },
   "outputs": [
    {
     "name": "stdout",
     "output_type": "stream",
     "text": [
      "Fitting 5 folds for each of 9 candidates, totalling 45 fits\n",
      "[CV 1/5; 1/9] START batch_size=10, epochs=50....................................\n"
     ]
    },
    {
     "name": "stderr",
     "output_type": "stream",
     "text": [
      "C:\\Users\\Renu\\AppData\\Local\\Temp\\ipykernel_51252\\2121822116.py:2: DeprecationWarning: KerasClassifier is deprecated, use Sci-Keras (https://github.com/adriangb/scikeras) instead. See https://www.adriangb.com/scikeras/stable/migration.html for help migrating.\n",
      "  model = KerasClassifier(build_fn = create_model,verbose = 0)\n"
     ]
    },
    {
     "name": "stdout",
     "output_type": "stream",
     "text": [
      "[CV 1/5; 1/9] END .....batch_size=10, epochs=50;, score=0.959 total time=   5.8s\n",
      "[CV 2/5; 1/9] START batch_size=10, epochs=50....................................\n",
      "[CV 2/5; 1/9] END .....batch_size=10, epochs=50;, score=0.959 total time=   4.7s\n",
      "[CV 3/5; 1/9] START batch_size=10, epochs=50....................................\n",
      "[CV 3/5; 1/9] END .....batch_size=10, epochs=50;, score=0.983 total time=   8.2s\n",
      "[CV 4/5; 1/9] START batch_size=10, epochs=50....................................\n",
      "[CV 4/5; 1/9] END .....batch_size=10, epochs=50;, score=0.992 total time=   4.7s\n",
      "[CV 5/5; 1/9] START batch_size=10, epochs=50....................................\n",
      "[CV 5/5; 1/9] END .....batch_size=10, epochs=50;, score=1.000 total time=   4.5s\n",
      "[CV 1/5; 2/9] START batch_size=10, epochs=100...................................\n",
      "[CV 1/5; 2/9] END ....batch_size=10, epochs=100;, score=0.256 total time=   8.9s\n",
      "[CV 2/5; 2/9] START batch_size=10, epochs=100...................................\n",
      "[CV 2/5; 2/9] END ....batch_size=10, epochs=100;, score=0.975 total time=  10.4s\n",
      "[CV 3/5; 2/9] START batch_size=10, epochs=100...................................\n",
      "[CV 3/5; 2/9] END ....batch_size=10, epochs=100;, score=0.975 total time=  10.6s\n",
      "[CV 4/5; 2/9] START batch_size=10, epochs=100...................................\n",
      "[CV 4/5; 2/9] END ....batch_size=10, epochs=100;, score=0.983 total time=  10.3s\n",
      "[CV 5/5; 2/9] START batch_size=10, epochs=100...................................\n",
      "[CV 5/5; 2/9] END ....batch_size=10, epochs=100;, score=1.000 total time=   8.9s\n",
      "[CV 1/5; 3/9] START batch_size=10, epochs=150...................................\n",
      "[CV 1/5; 3/9] END ....batch_size=10, epochs=150;, score=0.256 total time=  13.9s\n",
      "[CV 2/5; 3/9] START batch_size=10, epochs=150...................................\n",
      "[CV 2/5; 3/9] END ....batch_size=10, epochs=150;, score=0.959 total time=  12.1s\n",
      "[CV 3/5; 3/9] START batch_size=10, epochs=150...................................\n",
      "[CV 3/5; 3/9] END ....batch_size=10, epochs=150;, score=0.959 total time=  13.2s\n",
      "[CV 4/5; 3/9] START batch_size=10, epochs=150...................................\n",
      "[CV 4/5; 3/9] END ....batch_size=10, epochs=150;, score=0.983 total time=  16.3s\n",
      "[CV 5/5; 3/9] START batch_size=10, epochs=150...................................\n",
      "[CV 5/5; 3/9] END ....batch_size=10, epochs=150;, score=1.000 total time=  12.9s\n",
      "[CV 1/5; 4/9] START batch_size=20, epochs=50....................................\n",
      "[CV 1/5; 4/9] END .....batch_size=20, epochs=50;, score=0.959 total time=   3.2s\n",
      "[CV 2/5; 4/9] START batch_size=20, epochs=50....................................\n",
      "[CV 2/5; 4/9] END .....batch_size=20, epochs=50;, score=0.959 total time=   3.0s\n",
      "[CV 3/5; 4/9] START batch_size=20, epochs=50....................................\n",
      "[CV 3/5; 4/9] END .....batch_size=20, epochs=50;, score=0.992 total time=   2.8s\n",
      "[CV 4/5; 4/9] START batch_size=20, epochs=50....................................\n",
      "[CV 4/5; 4/9] END .....batch_size=20, epochs=50;, score=0.281 total time=   3.1s\n",
      "[CV 5/5; 4/9] START batch_size=20, epochs=50....................................\n",
      "[CV 5/5; 4/9] END .....batch_size=20, epochs=50;, score=1.000 total time=   3.0s\n",
      "[CV 1/5; 5/9] START batch_size=20, epochs=100...................................\n",
      "[CV 1/5; 5/9] END ....batch_size=20, epochs=100;, score=0.959 total time=   4.9s\n",
      "[CV 2/5; 5/9] START batch_size=20, epochs=100...................................\n",
      "[CV 2/5; 5/9] END ....batch_size=20, epochs=100;, score=0.967 total time=   5.3s\n",
      "[CV 3/5; 5/9] START batch_size=20, epochs=100...................................\n",
      "[CV 3/5; 5/9] END ....batch_size=20, epochs=100;, score=0.992 total time=   8.7s\n",
      "[CV 4/5; 5/9] START batch_size=20, epochs=100...................................\n",
      "[CV 4/5; 5/9] END ....batch_size=20, epochs=100;, score=0.983 total time=   5.2s\n",
      "[CV 5/5; 5/9] START batch_size=20, epochs=100...................................\n",
      "[CV 5/5; 5/9] END ....batch_size=20, epochs=100;, score=0.958 total time=   5.1s\n",
      "[CV 1/5; 6/9] START batch_size=20, epochs=150...................................\n",
      "[CV 1/5; 6/9] END ....batch_size=20, epochs=150;, score=0.959 total time=   7.0s\n",
      "[CV 2/5; 6/9] START batch_size=20, epochs=150...................................\n",
      "[CV 2/5; 6/9] END ....batch_size=20, epochs=150;, score=0.959 total time=   6.7s\n",
      "[CV 3/5; 6/9] START batch_size=20, epochs=150...................................\n",
      "[CV 3/5; 6/9] END ....batch_size=20, epochs=150;, score=0.983 total time=   6.7s\n",
      "[CV 4/5; 6/9] START batch_size=20, epochs=150...................................\n",
      "[CV 4/5; 6/9] END ....batch_size=20, epochs=150;, score=0.992 total time=   6.9s\n",
      "[CV 5/5; 6/9] START batch_size=20, epochs=150...................................\n",
      "[CV 5/5; 6/9] END ....batch_size=20, epochs=150;, score=1.000 total time=   6.7s\n",
      "[CV 1/5; 7/9] START batch_size=40, epochs=50....................................\n",
      "[CV 1/5; 7/9] END .....batch_size=40, epochs=50;, score=0.975 total time=   2.1s\n",
      "[CV 2/5; 7/9] START batch_size=40, epochs=50....................................\n",
      "[CV 2/5; 7/9] END .....batch_size=40, epochs=50;, score=0.950 total time=   2.2s\n",
      "[CV 3/5; 7/9] START batch_size=40, epochs=50....................................\n",
      "[CV 3/5; 7/9] END .....batch_size=40, epochs=50;, score=0.950 total time=   2.0s\n",
      "[CV 4/5; 7/9] START batch_size=40, epochs=50....................................\n",
      "[CV 4/5; 7/9] END .....batch_size=40, epochs=50;, score=0.950 total time=   2.0s\n",
      "[CV 5/5; 7/9] START batch_size=40, epochs=50....................................\n",
      "[CV 5/5; 7/9] END .....batch_size=40, epochs=50;, score=0.983 total time=   2.0s\n",
      "[CV 1/5; 8/9] START batch_size=40, epochs=100...................................\n",
      "[CV 1/5; 8/9] END ....batch_size=40, epochs=100;, score=0.959 total time=   3.1s\n",
      "[CV 2/5; 8/9] START batch_size=40, epochs=100...................................\n",
      "[CV 2/5; 8/9] END ....batch_size=40, epochs=100;, score=0.967 total time=   3.5s\n",
      "[CV 3/5; 8/9] START batch_size=40, epochs=100...................................\n",
      "[CV 3/5; 8/9] END ....batch_size=40, epochs=100;, score=0.975 total time=   3.2s\n",
      "[CV 4/5; 8/9] START batch_size=40, epochs=100...................................\n",
      "[CV 4/5; 8/9] END ....batch_size=40, epochs=100;, score=0.983 total time=   3.3s\n",
      "[CV 5/5; 8/9] START batch_size=40, epochs=100...................................\n",
      "[CV 5/5; 8/9] END ....batch_size=40, epochs=100;, score=1.000 total time=   4.0s\n",
      "[CV 1/5; 9/9] START batch_size=40, epochs=150...................................\n",
      "[CV 1/5; 9/9] END ....batch_size=40, epochs=150;, score=0.950 total time=   4.2s\n",
      "[CV 2/5; 9/9] START batch_size=40, epochs=150...................................\n",
      "[CV 2/5; 9/9] END ....batch_size=40, epochs=150;, score=0.942 total time=   4.3s\n",
      "[CV 3/5; 9/9] START batch_size=40, epochs=150...................................\n",
      "[CV 3/5; 9/9] END ....batch_size=40, epochs=150;, score=0.992 total time=   4.9s\n",
      "[CV 4/5; 9/9] START batch_size=40, epochs=150...................................\n",
      "[CV 4/5; 9/9] END ....batch_size=40, epochs=150;, score=0.281 total time=   4.5s\n",
      "[CV 5/5; 9/9] START batch_size=40, epochs=150...................................\n",
      "[CV 5/5; 9/9] END ....batch_size=40, epochs=150;, score=1.000 total time=   4.2s\n"
     ]
    }
   ],
   "source": [
    "# Create the model\n",
    "model = KerasClassifier(build_fn = create_model,verbose = 0)\n",
    "# Define the grid search parameters\n",
    "param_grid = {\"batch_size\":[10,20,40],\n",
    "              \"epochs\" :[50,100,150]}\n",
    "# Build and fit the GridSearchCV\n",
    "grid = GridSearchCV(estimator = model,param_grid = param_grid,cv = KFold(),verbose = 10)\n",
    "grid_result = grid.fit(x,y)"
   ]
  },
  {
   "cell_type": "code",
   "execution_count": 321,
   "id": "6e5ce31a",
   "metadata": {},
   "outputs": [
    {
     "name": "stdout",
     "output_type": "stream",
     "text": [
      "Best : 0.9785124063491821, using {'batch_size': 10, 'epochs': 50}\n",
      "0.9785124063491821,0.017017557935863566 with: {'batch_size': 10, 'epochs': 50}\n",
      "0.8380165338516236,0.2910499310281508 with: {'batch_size': 10, 'epochs': 100}\n",
      "0.8314049720764161,0.28803046731471504 with: {'batch_size': 10, 'epochs': 150}\n",
      "0.8380165338516236,0.27902080083518604 with: {'batch_size': 20, 'epochs': 50}\n",
      "0.9718319535255432,0.013496512841139962 with: {'batch_size': 20, 'epochs': 100}\n",
      "0.9785124063491821,0.017017557935863566 with: {'batch_size': 20, 'epochs': 150}\n",
      "0.9619559288024903,0.014368553435528727 with: {'batch_size': 40, 'epochs': 50}\n",
      "0.9768595099449158,0.014218717857736091 with: {'batch_size': 40, 'epochs': 100}\n",
      "0.8330578446388245,0.2769470668319827 with: {'batch_size': 40, 'epochs': 150}\n"
     ]
    }
   ],
   "source": [
    "# Summarize the results\n",
    "print('Best : {}, using {}'.format(grid_result.best_score_,grid_result.best_params_))\n",
    "means = grid_result.cv_results_['mean_test_score']\n",
    "stds = grid_result.cv_results_['std_test_score']\n",
    "params = grid_result.cv_results_['params']\n",
    "for mean, stdev, param in zip(means, stds, params):\n",
    "  print('{},{} with: {}'.format(mean, stdev, param))"
   ]
  },
  {
   "cell_type": "code",
   "execution_count": 322,
   "id": "2c64deae",
   "metadata": {
    "scrolled": true
   },
   "outputs": [
    {
     "name": "stdout",
     "output_type": "stream",
     "text": [
      "Fitting 5 folds for each of 9 candidates, totalling 45 fits\n",
      "[CV 1/5; 1/9] START dropout_rate=0.0, learning_rate=0.001.......................\n"
     ]
    },
    {
     "name": "stderr",
     "output_type": "stream",
     "text": [
      "C:\\Users\\Renu\\AppData\\Local\\Temp\\ipykernel_51252\\429198344.py:19: DeprecationWarning: KerasClassifier is deprecated, use Sci-Keras (https://github.com/adriangb/scikeras) instead. See https://www.adriangb.com/scikeras/stable/migration.html for help migrating.\n",
      "  model = KerasClassifier(build_fn = create_model1,verbose = 0,batch_size = 10,epochs = 50)\n"
     ]
    },
    {
     "name": "stdout",
     "output_type": "stream",
     "text": [
      "[CV 1/5; 1/9] END dropout_rate=0.0, learning_rate=0.001;, score=0.950 total time=   5.1s\n",
      "[CV 2/5; 1/9] START dropout_rate=0.0, learning_rate=0.001.......................\n",
      "[CV 2/5; 1/9] END dropout_rate=0.0, learning_rate=0.001;, score=0.967 total time=   5.0s\n",
      "[CV 3/5; 1/9] START dropout_rate=0.0, learning_rate=0.001.......................\n",
      "[CV 3/5; 1/9] END dropout_rate=0.0, learning_rate=0.001;, score=0.959 total time=   4.7s\n",
      "[CV 4/5; 1/9] START dropout_rate=0.0, learning_rate=0.001.......................\n",
      "[CV 4/5; 1/9] END dropout_rate=0.0, learning_rate=0.001;, score=0.934 total time=   4.7s\n",
      "[CV 5/5; 1/9] START dropout_rate=0.0, learning_rate=0.001.......................\n",
      "[CV 5/5; 1/9] END dropout_rate=0.0, learning_rate=0.001;, score=0.808 total time=   4.7s\n",
      "[CV 1/5; 2/9] START dropout_rate=0.0, learning_rate=0.01........................\n",
      "[CV 1/5; 2/9] END dropout_rate=0.0, learning_rate=0.01;, score=0.959 total time=   4.8s\n",
      "[CV 2/5; 2/9] START dropout_rate=0.0, learning_rate=0.01........................\n",
      "[CV 2/5; 2/9] END dropout_rate=0.0, learning_rate=0.01;, score=0.934 total time=   4.8s\n",
      "[CV 3/5; 2/9] START dropout_rate=0.0, learning_rate=0.01........................\n",
      "[CV 3/5; 2/9] END dropout_rate=0.0, learning_rate=0.01;, score=0.983 total time=   4.8s\n",
      "[CV 4/5; 2/9] START dropout_rate=0.0, learning_rate=0.01........................\n",
      "[CV 4/5; 2/9] END dropout_rate=0.0, learning_rate=0.01;, score=0.959 total time=   4.8s\n",
      "[CV 5/5; 2/9] START dropout_rate=0.0, learning_rate=0.01........................\n",
      "[CV 5/5; 2/9] END dropout_rate=0.0, learning_rate=0.01;, score=1.000 total time=   4.6s\n",
      "[CV 1/5; 3/9] START dropout_rate=0.0, learning_rate=0.1.........................\n",
      "[CV 1/5; 3/9] END dropout_rate=0.0, learning_rate=0.1;, score=0.256 total time=   4.6s\n",
      "[CV 2/5; 3/9] START dropout_rate=0.0, learning_rate=0.1.........................\n",
      "[CV 2/5; 3/9] END dropout_rate=0.0, learning_rate=0.1;, score=0.306 total time=   5.1s\n",
      "[CV 3/5; 3/9] START dropout_rate=0.0, learning_rate=0.1.........................\n",
      "[CV 3/5; 3/9] END dropout_rate=0.0, learning_rate=0.1;, score=0.223 total time=   4.6s\n",
      "[CV 4/5; 3/9] START dropout_rate=0.0, learning_rate=0.1.........................\n",
      "[CV 4/5; 3/9] END dropout_rate=0.0, learning_rate=0.1;, score=0.281 total time=   4.6s\n",
      "[CV 5/5; 3/9] START dropout_rate=0.0, learning_rate=0.1.........................\n",
      "[CV 5/5; 3/9] END dropout_rate=0.0, learning_rate=0.1;, score=0.000 total time=   4.6s\n",
      "[CV 1/5; 4/9] START dropout_rate=0.1, learning_rate=0.001.......................\n",
      "[CV 1/5; 4/9] END dropout_rate=0.1, learning_rate=0.001;, score=0.950 total time=   5.1s\n",
      "[CV 2/5; 4/9] START dropout_rate=0.1, learning_rate=0.001.......................\n",
      "[CV 2/5; 4/9] END dropout_rate=0.1, learning_rate=0.001;, score=0.959 total time=   5.8s\n",
      "[CV 3/5; 4/9] START dropout_rate=0.1, learning_rate=0.001.......................\n",
      "[CV 3/5; 4/9] END dropout_rate=0.1, learning_rate=0.001;, score=0.934 total time=   5.6s\n",
      "[CV 4/5; 4/9] START dropout_rate=0.1, learning_rate=0.001.......................\n",
      "[CV 4/5; 4/9] END dropout_rate=0.1, learning_rate=0.001;, score=0.909 total time=   5.6s\n",
      "[CV 5/5; 4/9] START dropout_rate=0.1, learning_rate=0.001.......................\n",
      "[CV 5/5; 4/9] END dropout_rate=0.1, learning_rate=0.001;, score=0.000 total time=   5.7s\n",
      "[CV 1/5; 5/9] START dropout_rate=0.1, learning_rate=0.01........................\n",
      "[CV 1/5; 5/9] END dropout_rate=0.1, learning_rate=0.01;, score=0.975 total time=   5.4s\n",
      "[CV 2/5; 5/9] START dropout_rate=0.1, learning_rate=0.01........................\n",
      "[CV 2/5; 5/9] END dropout_rate=0.1, learning_rate=0.01;, score=0.975 total time=   5.4s\n",
      "[CV 3/5; 5/9] START dropout_rate=0.1, learning_rate=0.01........................\n",
      "[CV 3/5; 5/9] END dropout_rate=0.1, learning_rate=0.01;, score=0.983 total time=   5.0s\n",
      "[CV 4/5; 5/9] START dropout_rate=0.1, learning_rate=0.01........................\n",
      "[CV 4/5; 5/9] END dropout_rate=0.1, learning_rate=0.01;, score=0.281 total time=   5.0s\n",
      "[CV 5/5; 5/9] START dropout_rate=0.1, learning_rate=0.01........................\n",
      "[CV 5/5; 5/9] END dropout_rate=0.1, learning_rate=0.01;, score=1.000 total time=   4.9s\n",
      "[CV 1/5; 6/9] START dropout_rate=0.1, learning_rate=0.1.........................\n",
      "[CV 1/5; 6/9] END dropout_rate=0.1, learning_rate=0.1;, score=0.256 total time=   4.9s\n",
      "[CV 2/5; 6/9] START dropout_rate=0.1, learning_rate=0.1.........................\n",
      "[CV 2/5; 6/9] END dropout_rate=0.1, learning_rate=0.1;, score=0.694 total time=   5.0s\n",
      "[CV 3/5; 6/9] START dropout_rate=0.1, learning_rate=0.1.........................\n",
      "[CV 3/5; 6/9] END dropout_rate=0.1, learning_rate=0.1;, score=0.223 total time=   4.9s\n",
      "[CV 4/5; 6/9] START dropout_rate=0.1, learning_rate=0.1.........................\n",
      "[CV 4/5; 6/9] END dropout_rate=0.1, learning_rate=0.1;, score=0.983 total time=   5.5s\n",
      "[CV 5/5; 6/9] START dropout_rate=0.1, learning_rate=0.1.........................\n",
      "[CV 5/5; 6/9] END dropout_rate=0.1, learning_rate=0.1;, score=0.000 total time=   5.0s\n",
      "[CV 1/5; 7/9] START dropout_rate=0.2, learning_rate=0.001.......................\n",
      "[CV 1/5; 7/9] END dropout_rate=0.2, learning_rate=0.001;, score=0.967 total time=   5.0s\n",
      "[CV 2/5; 7/9] START dropout_rate=0.2, learning_rate=0.001.......................\n",
      "[CV 2/5; 7/9] END dropout_rate=0.2, learning_rate=0.001;, score=0.959 total time=   5.0s\n",
      "[CV 3/5; 7/9] START dropout_rate=0.2, learning_rate=0.001.......................\n",
      "[CV 3/5; 7/9] END dropout_rate=0.2, learning_rate=0.001;, score=0.959 total time=   5.0s\n",
      "[CV 4/5; 7/9] START dropout_rate=0.2, learning_rate=0.001.......................\n",
      "[CV 4/5; 7/9] END dropout_rate=0.2, learning_rate=0.001;, score=0.934 total time=   4.9s\n",
      "[CV 5/5; 7/9] START dropout_rate=0.2, learning_rate=0.001.......................\n",
      "[CV 5/5; 7/9] END dropout_rate=0.2, learning_rate=0.001;, score=0.942 total time=   5.0s\n",
      "[CV 1/5; 8/9] START dropout_rate=0.2, learning_rate=0.01........................\n",
      "[CV 1/5; 8/9] END dropout_rate=0.2, learning_rate=0.01;, score=0.967 total time=   5.0s\n",
      "[CV 2/5; 8/9] START dropout_rate=0.2, learning_rate=0.01........................\n",
      "[CV 2/5; 8/9] END dropout_rate=0.2, learning_rate=0.01;, score=0.950 total time=   5.0s\n",
      "[CV 3/5; 8/9] START dropout_rate=0.2, learning_rate=0.01........................\n",
      "[CV 3/5; 8/9] END dropout_rate=0.2, learning_rate=0.01;, score=0.893 total time=   5.0s\n",
      "[CV 4/5; 8/9] START dropout_rate=0.2, learning_rate=0.01........................\n",
      "[CV 4/5; 8/9] END dropout_rate=0.2, learning_rate=0.01;, score=0.992 total time=   4.9s\n",
      "[CV 5/5; 8/9] START dropout_rate=0.2, learning_rate=0.01........................\n",
      "[CV 5/5; 8/9] END dropout_rate=0.2, learning_rate=0.01;, score=0.883 total time=   4.9s\n",
      "[CV 1/5; 9/9] START dropout_rate=0.2, learning_rate=0.1.........................\n",
      "[CV 1/5; 9/9] END dropout_rate=0.2, learning_rate=0.1;, score=0.256 total time=   5.2s\n",
      "[CV 2/5; 9/9] START dropout_rate=0.2, learning_rate=0.1.........................\n",
      "[CV 2/5; 9/9] END dropout_rate=0.2, learning_rate=0.1;, score=0.306 total time=   5.0s\n",
      "[CV 3/5; 9/9] START dropout_rate=0.2, learning_rate=0.1.........................\n",
      "[CV 3/5; 9/9] END dropout_rate=0.2, learning_rate=0.1;, score=0.223 total time=   5.1s\n",
      "[CV 4/5; 9/9] START dropout_rate=0.2, learning_rate=0.1.........................\n",
      "[CV 4/5; 9/9] END dropout_rate=0.2, learning_rate=0.1;, score=0.281 total time=   5.0s\n",
      "[CV 5/5; 9/9] START dropout_rate=0.2, learning_rate=0.1.........................\n",
      "[CV 5/5; 9/9] END dropout_rate=0.2, learning_rate=0.1;, score=0.000 total time=   5.5s\n"
     ]
    }
   ],
   "source": [
    "#tuning dropoutrate and learning rate using epochs 50 and batch size 40\n",
    "from keras.layers import Dropout\n",
    "\n",
    "# Defining the model\n",
    "\n",
    "def create_model1(learning_rate,dropout_rate):\n",
    "    model = Sequential()\n",
    "    model.add(Dense(8,input_dim = 28,kernel_initializer = 'normal',activation = 'relu'))\n",
    "    model.add(Dropout(dropout_rate))\n",
    "    model.add(Dense(4,input_dim = 8,kernel_initializer = 'normal',activation = 'relu'))\n",
    "    model.add(Dropout(dropout_rate))\n",
    "    model.add(Dense(1,activation = 'sigmoid'))\n",
    "    \n",
    "    adam = Adam(learning_rate = learning_rate)\n",
    "    model.compile(loss = 'binary_crossentropy',optimizer = adam,metrics = ['accuracy'])\n",
    "    return model\n",
    "\n",
    "# Create the model\n",
    "model = KerasClassifier(build_fn = create_model1,verbose = 0,batch_size = 10,epochs = 50)\n",
    "\n",
    "# Define the grid search parameters\n",
    "\n",
    "param_grids = {\"learning_rate\":[0.001,0.01,0.1],\n",
    "               \"dropout_rate\":[0.0,0.1,0.2]}\n",
    "# Build and fit the GridSearchCV\n",
    "grid = GridSearchCV(estimator = model,param_grid = param_grids,cv = KFold(),verbose = 10)\n",
    "grid_result = grid.fit(x,y)"
   ]
  },
  {
   "cell_type": "code",
   "execution_count": 323,
   "id": "c4253fc4",
   "metadata": {},
   "outputs": [
    {
     "name": "stdout",
     "output_type": "stream",
     "text": [
      "Best : 0.9669421672821045, using {'dropout_rate': 0.0, 'learning_rate': 0.01}\n",
      "0.9236501455307007,0.05868576221672005 with: {'dropout_rate': 0.0, 'learning_rate': 0.001}\n",
      "0.9669421672821045,0.022783544080106903 with: {'dropout_rate': 0.0, 'learning_rate': 0.01}\n",
      "0.21322313845157623,0.1100632835860323 with: {'dropout_rate': 0.0, 'learning_rate': 0.1}\n",
      "0.7504132390022278,0.3755887016732411 with: {'dropout_rate': 0.1, 'learning_rate': 0.001}\n",
      "0.8429752111434936,0.28113754464200397 with: {'dropout_rate': 0.1, 'learning_rate': 0.01}\n",
      "0.4314049631357193,0.35609767126913666 with: {'dropout_rate': 0.1, 'learning_rate': 0.1}\n",
      "0.9519697070121765,0.012226217155983004 with: {'dropout_rate': 0.2, 'learning_rate': 0.001}\n",
      "0.9369972348213196,0.042254640159182864 with: {'dropout_rate': 0.2, 'learning_rate': 0.01}\n",
      "0.21322313845157623,0.1100632835860323 with: {'dropout_rate': 0.2, 'learning_rate': 0.1}\n"
     ]
    }
   ],
   "source": [
    "# Summarize the results\n",
    "print('Best : {}, using {}'.format(grid_result.best_score_,grid_result.best_params_))\n",
    "means = grid_result.cv_results_['mean_test_score']\n",
    "stds = grid_result.cv_results_['std_test_score']\n",
    "params = grid_result.cv_results_['params']\n",
    "for mean, stdev, param in zip(means, stds, params):\n",
    "  print('{},{} with: {}'.format(mean, stdev, param))"
   ]
  },
  {
   "cell_type": "code",
   "execution_count": 324,
   "id": "5d4ab9ac",
   "metadata": {
    "scrolled": true
   },
   "outputs": [
    {
     "name": "stdout",
     "output_type": "stream",
     "text": [
      "Fitting 5 folds for each of 9 candidates, totalling 45 fits\n",
      "[CV 1/5; 1/9] START activation_function=softmax, init=uniform...................\n"
     ]
    },
    {
     "name": "stderr",
     "output_type": "stream",
     "text": [
      "C:\\Users\\Renu\\AppData\\Local\\Temp\\ipykernel_51252\\1729808322.py:17: DeprecationWarning: KerasClassifier is deprecated, use Sci-Keras (https://github.com/adriangb/scikeras) instead. See https://www.adriangb.com/scikeras/stable/migration.html for help migrating.\n",
      "  model = KerasClassifier(build_fn = create_model2,verbose = 0,batch_size = 10,epochs = 50)\n"
     ]
    },
    {
     "name": "stdout",
     "output_type": "stream",
     "text": [
      "[CV 1/5; 1/9] END activation_function=softmax, init=uniform;, score=0.579 total time=   4.9s\n",
      "[CV 2/5; 1/9] START activation_function=softmax, init=uniform...................\n",
      "[CV 2/5; 1/9] END activation_function=softmax, init=uniform;, score=0.785 total time=   4.9s\n",
      "[CV 3/5; 1/9] START activation_function=softmax, init=uniform...................\n",
      "[CV 3/5; 1/9] END activation_function=softmax, init=uniform;, score=0.504 total time=   4.8s\n",
      "[CV 4/5; 1/9] START activation_function=softmax, init=uniform...................\n",
      "[CV 4/5; 1/9] END activation_function=softmax, init=uniform;, score=0.744 total time=   4.8s\n",
      "[CV 5/5; 1/9] START activation_function=softmax, init=uniform...................\n",
      "[CV 5/5; 1/9] END activation_function=softmax, init=uniform;, score=0.433 total time=   4.8s\n",
      "[CV 1/5; 2/9] START activation_function=softmax, init=normal....................\n",
      "[CV 1/5; 2/9] END activation_function=softmax, init=normal;, score=0.620 total time=   4.8s\n",
      "[CV 2/5; 2/9] START activation_function=softmax, init=normal....................\n",
      "[CV 2/5; 2/9] END activation_function=softmax, init=normal;, score=0.793 total time=   4.8s\n",
      "[CV 3/5; 2/9] START activation_function=softmax, init=normal....................\n",
      "[CV 3/5; 2/9] END activation_function=softmax, init=normal;, score=0.545 total time=   4.9s\n",
      "[CV 4/5; 2/9] START activation_function=softmax, init=normal....................\n",
      "[CV 4/5; 2/9] END activation_function=softmax, init=normal;, score=0.727 total time=   4.8s\n",
      "[CV 5/5; 2/9] START activation_function=softmax, init=normal....................\n",
      "[CV 5/5; 2/9] END activation_function=softmax, init=normal;, score=0.283 total time=   4.7s\n",
      "[CV 1/5; 3/9] START activation_function=softmax, init=zero......................\n",
      "[CV 1/5; 3/9] END activation_function=softmax, init=zero;, score=0.256 total time=   4.7s\n",
      "[CV 2/5; 3/9] START activation_function=softmax, init=zero......................\n",
      "[CV 2/5; 3/9] END activation_function=softmax, init=zero;, score=0.306 total time=   4.7s\n",
      "[CV 3/5; 3/9] START activation_function=softmax, init=zero......................\n",
      "[CV 3/5; 3/9] END activation_function=softmax, init=zero;, score=0.223 total time=   4.7s\n",
      "[CV 4/5; 3/9] START activation_function=softmax, init=zero......................\n",
      "[CV 4/5; 3/9] END activation_function=softmax, init=zero;, score=0.281 total time=   4.7s\n",
      "[CV 5/5; 3/9] START activation_function=softmax, init=zero......................\n",
      "[CV 5/5; 3/9] END activation_function=softmax, init=zero;, score=0.000 total time=   4.7s\n",
      "[CV 1/5; 4/9] START activation_function=relu, init=uniform......................\n",
      "[CV 1/5; 4/9] END activation_function=relu, init=uniform;, score=0.959 total time=   4.7s\n",
      "[CV 2/5; 4/9] START activation_function=relu, init=uniform......................\n",
      "[CV 2/5; 4/9] END activation_function=relu, init=uniform;, score=0.306 total time=   5.1s\n",
      "[CV 3/5; 4/9] START activation_function=relu, init=uniform......................\n",
      "[CV 3/5; 4/9] END activation_function=relu, init=uniform;, score=0.975 total time=   4.6s\n",
      "[CV 4/5; 4/9] START activation_function=relu, init=uniform......................\n",
      "[CV 4/5; 4/9] END activation_function=relu, init=uniform;, score=0.934 total time=   4.6s\n",
      "[CV 5/5; 4/9] START activation_function=relu, init=uniform......................\n",
      "[CV 5/5; 4/9] END activation_function=relu, init=uniform;, score=0.933 total time=   4.7s\n",
      "[CV 1/5; 5/9] START activation_function=relu, init=normal.......................\n",
      "[CV 1/5; 5/9] END activation_function=relu, init=normal;, score=0.950 total time=   4.6s\n",
      "[CV 2/5; 5/9] START activation_function=relu, init=normal.......................\n",
      "[CV 2/5; 5/9] END activation_function=relu, init=normal;, score=0.975 total time=   4.6s\n",
      "[CV 3/5; 5/9] START activation_function=relu, init=normal.......................\n",
      "[CV 3/5; 5/9] END activation_function=relu, init=normal;, score=0.926 total time=   4.6s\n",
      "[CV 4/5; 5/9] START activation_function=relu, init=normal.......................\n",
      "[CV 4/5; 5/9] END activation_function=relu, init=normal;, score=0.909 total time=   5.0s\n",
      "[CV 5/5; 5/9] START activation_function=relu, init=normal.......................\n",
      "[CV 5/5; 5/9] END activation_function=relu, init=normal;, score=0.950 total time=   5.0s\n",
      "[CV 1/5; 6/9] START activation_function=relu, init=zero.........................\n",
      "[CV 1/5; 6/9] END activation_function=relu, init=zero;, score=0.256 total time=   4.7s\n",
      "[CV 2/5; 6/9] START activation_function=relu, init=zero.........................\n",
      "[CV 2/5; 6/9] END activation_function=relu, init=zero;, score=0.306 total time=   4.7s\n",
      "[CV 3/5; 6/9] START activation_function=relu, init=zero.........................\n",
      "[CV 3/5; 6/9] END activation_function=relu, init=zero;, score=0.223 total time=   4.7s\n",
      "[CV 4/5; 6/9] START activation_function=relu, init=zero.........................\n",
      "[CV 4/5; 6/9] END activation_function=relu, init=zero;, score=0.281 total time=   4.6s\n",
      "[CV 5/5; 6/9] START activation_function=relu, init=zero.........................\n",
      "[CV 5/5; 6/9] END activation_function=relu, init=zero;, score=0.000 total time=   4.7s\n",
      "[CV 1/5; 7/9] START activation_function=tanh, init=uniform......................\n",
      "[CV 1/5; 7/9] END activation_function=tanh, init=uniform;, score=0.959 total time=   4.6s\n",
      "[CV 2/5; 7/9] START activation_function=tanh, init=uniform......................\n",
      "[CV 2/5; 7/9] END activation_function=tanh, init=uniform;, score=0.975 total time=   4.5s\n",
      "[CV 3/5; 7/9] START activation_function=tanh, init=uniform......................\n",
      "[CV 3/5; 7/9] END activation_function=tanh, init=uniform;, score=1.000 total time=   4.6s\n",
      "[CV 4/5; 7/9] START activation_function=tanh, init=uniform......................\n",
      "[CV 4/5; 7/9] END activation_function=tanh, init=uniform;, score=0.983 total time=   4.7s\n",
      "[CV 5/5; 7/9] START activation_function=tanh, init=uniform......................\n",
      "[CV 5/5; 7/9] END activation_function=tanh, init=uniform;, score=0.992 total time=   5.1s\n",
      "[CV 1/5; 8/9] START activation_function=tanh, init=normal.......................\n",
      "[CV 1/5; 8/9] END activation_function=tanh, init=normal;, score=0.950 total time=   4.6s\n",
      "[CV 2/5; 8/9] START activation_function=tanh, init=normal.......................\n",
      "[CV 2/5; 8/9] END activation_function=tanh, init=normal;, score=0.967 total time=   4.6s\n",
      "[CV 3/5; 8/9] START activation_function=tanh, init=normal.......................\n",
      "[CV 3/5; 8/9] END activation_function=tanh, init=normal;, score=0.983 total time=   4.6s\n",
      "[CV 4/5; 8/9] START activation_function=tanh, init=normal.......................\n",
      "[CV 4/5; 8/9] END activation_function=tanh, init=normal;, score=0.983 total time=   4.7s\n",
      "[CV 5/5; 8/9] START activation_function=tanh, init=normal.......................\n",
      "[CV 5/5; 8/9] END activation_function=tanh, init=normal;, score=0.983 total time=   4.6s\n",
      "[CV 1/5; 9/9] START activation_function=tanh, init=zero.........................\n",
      "[CV 1/5; 9/9] END activation_function=tanh, init=zero;, score=0.256 total time=   4.7s\n",
      "[CV 2/5; 9/9] START activation_function=tanh, init=zero.........................\n",
      "[CV 2/5; 9/9] END activation_function=tanh, init=zero;, score=0.306 total time=   4.6s\n",
      "[CV 3/5; 9/9] START activation_function=tanh, init=zero.........................\n",
      "[CV 3/5; 9/9] END activation_function=tanh, init=zero;, score=0.223 total time=   4.6s\n",
      "[CV 4/5; 9/9] START activation_function=tanh, init=zero.........................\n",
      "[CV 4/5; 9/9] END activation_function=tanh, init=zero;, score=0.281 total time=   4.6s\n",
      "[CV 5/5; 9/9] START activation_function=tanh, init=zero.........................\n",
      "[CV 5/5; 9/9] END activation_function=tanh, init=zero;, score=0.000 total time=   4.6s\n"
     ]
    }
   ],
   "source": [
    "# Tuning actibvation funtion and kernel initializer\n",
    "#Defining the model\n",
    "\n",
    "def create_model2(activation_function,init):\n",
    "    model = Sequential()\n",
    "    model.add(Dense(8,input_dim = 28,kernel_initializer = init,activation = activation_function))\n",
    "    model.add(Dropout(0.0))\n",
    "    model.add(Dense(4,kernel_initializer = init,activation = activation_function))\n",
    "    model.add(Dropout(0.0))\n",
    "    model.add(Dense(1,activation = 'sigmoid'))\n",
    "    \n",
    "    adam = Adam(learning_rate = 0.001)\n",
    "    model.compile(loss = 'binary_crossentropy',optimizer = adam,metrics = ['accuracy'])\n",
    "    return model\n",
    "\n",
    "# Create the model\n",
    "model = KerasClassifier(build_fn = create_model2,verbose = 0,batch_size = 10,epochs = 50)\n",
    "\n",
    "# Define the grid search parameters\n",
    "activation_function = ['softmax','relu','tanh']\n",
    "init = ['uniform','normal','zero']\n",
    "\n",
    "# Make a dictionary of the grid search parameters\n",
    "param_grids = dict(activation_function = activation_function,init = init)\n",
    "\n",
    "# Build and fit the GridSearchCV\n",
    "\n",
    "grid = GridSearchCV(estimator = model,param_grid = param_grids,cv = KFold(),verbose = 10)\n",
    "grid_result = grid.fit(x,y)\n"
   ]
  },
  {
   "cell_type": "code",
   "execution_count": 325,
   "id": "18f9b4e3",
   "metadata": {},
   "outputs": [
    {
     "name": "stdout",
     "output_type": "stream",
     "text": [
      "Best : 0.9818044185638428, using {'activation_function': 'tanh', 'init': 'uniform'}\n",
      "0.6089807033538819,0.13562938671115812 with: {'activation_function': 'softmax', 'init': 'uniform'}\n",
      "0.5938567578792572,0.17723156545550195 with: {'activation_function': 'softmax', 'init': 'normal'}\n",
      "0.21322313845157623,0.1100632835860323 with: {'activation_function': 'softmax', 'init': 'zero'}\n",
      "0.8213774204254151,0.25827974796168635 with: {'activation_function': 'relu', 'init': 'uniform'}\n",
      "0.9420661211013794,0.022754145224662528 with: {'activation_function': 'relu', 'init': 'normal'}\n",
      "0.21322313845157623,0.1100632835860323 with: {'activation_function': 'relu', 'init': 'zero'}\n",
      "0.9818044185638428,0.014209129544354765 with: {'activation_function': 'tanh', 'init': 'uniform'}\n",
      "0.9735261797904968,0.013202587218819777 with: {'activation_function': 'tanh', 'init': 'normal'}\n",
      "0.21322313845157623,0.1100632835860323 with: {'activation_function': 'tanh', 'init': 'zero'}\n"
     ]
    }
   ],
   "source": [
    "# Summarize the results\n",
    "print('Best : {}, using {}'.format(grid_result.best_score_,grid_result.best_params_))\n",
    "means = grid_result.cv_results_['mean_test_score']\n",
    "stds = grid_result.cv_results_['std_test_score']\n",
    "params = grid_result.cv_results_['params']\n",
    "for mean, stdev, param in zip(means, stds, params):\n",
    "  print('{},{} with: {}'.format(mean, stdev, param))"
   ]
  },
  {
   "cell_type": "code",
   "execution_count": 326,
   "id": "dc66bbfc",
   "metadata": {
    "scrolled": true
   },
   "outputs": [
    {
     "name": "stdout",
     "output_type": "stream",
     "text": [
      "Fitting 5 folds for each of 9 candidates, totalling 45 fits\n",
      "[CV 1/5; 1/9] START neuron1=4, neuron2=2........................................\n"
     ]
    },
    {
     "name": "stderr",
     "output_type": "stream",
     "text": [
      "C:\\Users\\Renu\\AppData\\Local\\Temp\\ipykernel_51252\\621153135.py:17: DeprecationWarning: KerasClassifier is deprecated, use Sci-Keras (https://github.com/adriangb/scikeras) instead. See https://www.adriangb.com/scikeras/stable/migration.html for help migrating.\n",
      "  model = KerasClassifier(build_fn = create_model3,verbose = 0,batch_size = 10,epochs = 50)\n"
     ]
    },
    {
     "name": "stdout",
     "output_type": "stream",
     "text": [
      "[CV 1/5; 1/9] END .........neuron1=4, neuron2=2;, score=0.934 total time=   4.7s\n",
      "[CV 2/5; 1/9] START neuron1=4, neuron2=2........................................\n",
      "[CV 2/5; 1/9] END .........neuron1=4, neuron2=2;, score=0.983 total time=   4.6s\n",
      "[CV 3/5; 1/9] START neuron1=4, neuron2=2........................................\n",
      "[CV 3/5; 1/9] END .........neuron1=4, neuron2=2;, score=0.909 total time=   4.6s\n",
      "[CV 4/5; 1/9] START neuron1=4, neuron2=2........................................\n",
      "[CV 4/5; 1/9] END .........neuron1=4, neuron2=2;, score=0.917 total time=   4.6s\n",
      "[CV 5/5; 1/9] START neuron1=4, neuron2=2........................................\n",
      "[CV 5/5; 1/9] END .........neuron1=4, neuron2=2;, score=0.000 total time=   4.6s\n",
      "[CV 1/5; 2/9] START neuron1=4, neuron2=4........................................\n",
      "[CV 1/5; 2/9] END .........neuron1=4, neuron2=4;, score=0.950 total time=   4.6s\n",
      "[CV 2/5; 2/9] START neuron1=4, neuron2=4........................................\n",
      "[CV 2/5; 2/9] END .........neuron1=4, neuron2=4;, score=0.306 total time=   5.1s\n",
      "[CV 3/5; 2/9] START neuron1=4, neuron2=4........................................\n",
      "[CV 3/5; 2/9] END .........neuron1=4, neuron2=4;, score=0.876 total time=   4.6s\n",
      "[CV 4/5; 2/9] START neuron1=4, neuron2=4........................................\n",
      "[CV 4/5; 2/9] END .........neuron1=4, neuron2=4;, score=0.909 total time=   4.7s\n",
      "[CV 5/5; 2/9] START neuron1=4, neuron2=4........................................\n",
      "[CV 5/5; 2/9] END .........neuron1=4, neuron2=4;, score=0.675 total time=   4.6s\n",
      "[CV 1/5; 3/9] START neuron1=4, neuron2=8........................................\n",
      "[CV 1/5; 3/9] END .........neuron1=4, neuron2=8;, score=0.942 total time=   4.6s\n",
      "[CV 2/5; 3/9] START neuron1=4, neuron2=8........................................\n",
      "[CV 2/5; 3/9] END .........neuron1=4, neuron2=8;, score=0.975 total time=   4.7s\n",
      "[CV 3/5; 3/9] START neuron1=4, neuron2=8........................................\n",
      "[CV 3/5; 3/9] END .........neuron1=4, neuron2=8;, score=0.917 total time=   4.6s\n",
      "[CV 4/5; 3/9] START neuron1=4, neuron2=8........................................\n",
      "[CV 4/5; 3/9] END .........neuron1=4, neuron2=8;, score=0.975 total time=   4.6s\n",
      "[CV 5/5; 3/9] START neuron1=4, neuron2=8........................................\n",
      "[CV 5/5; 3/9] END .........neuron1=4, neuron2=8;, score=0.533 total time=   4.6s\n",
      "[CV 1/5; 4/9] START neuron1=8, neuron2=2........................................\n",
      "[CV 1/5; 4/9] END .........neuron1=8, neuron2=2;, score=0.942 total time=   4.5s\n",
      "[CV 2/5; 4/9] START neuron1=8, neuron2=2........................................\n",
      "[CV 2/5; 4/9] END .........neuron1=8, neuron2=2;, score=0.306 total time=   4.6s\n",
      "[CV 3/5; 4/9] START neuron1=8, neuron2=2........................................\n",
      "[CV 3/5; 4/9] END .........neuron1=8, neuron2=2;, score=0.223 total time=   4.6s\n",
      "[CV 4/5; 4/9] START neuron1=8, neuron2=2........................................\n",
      "[CV 4/5; 4/9] END .........neuron1=8, neuron2=2;, score=0.975 total time=   4.6s\n",
      "[CV 5/5; 4/9] START neuron1=8, neuron2=2........................................\n",
      "[CV 5/5; 4/9] END .........neuron1=8, neuron2=2;, score=0.692 total time=   4.6s\n",
      "[CV 1/5; 5/9] START neuron1=8, neuron2=4........................................\n",
      "[CV 1/5; 5/9] END .........neuron1=8, neuron2=4;, score=0.959 total time=   4.6s\n",
      "[CV 2/5; 5/9] START neuron1=8, neuron2=4........................................\n",
      "[CV 2/5; 5/9] END .........neuron1=8, neuron2=4;, score=0.967 total time=   4.5s\n",
      "[CV 3/5; 5/9] START neuron1=8, neuron2=4........................................\n",
      "[CV 3/5; 5/9] END .........neuron1=8, neuron2=4;, score=0.959 total time=   4.8s\n",
      "[CV 4/5; 5/9] START neuron1=8, neuron2=4........................................\n",
      "[CV 4/5; 5/9] END .........neuron1=8, neuron2=4;, score=0.950 total time=   4.6s\n",
      "[CV 5/5; 5/9] START neuron1=8, neuron2=4........................................\n",
      "[CV 5/5; 5/9] END .........neuron1=8, neuron2=4;, score=0.750 total time=   5.1s\n",
      "[CV 1/5; 6/9] START neuron1=8, neuron2=8........................................\n",
      "[CV 1/5; 6/9] END .........neuron1=8, neuron2=8;, score=0.950 total time=   4.6s\n",
      "[CV 2/5; 6/9] START neuron1=8, neuron2=8........................................\n",
      "[CV 2/5; 6/9] END .........neuron1=8, neuron2=8;, score=0.983 total time=   4.6s\n",
      "[CV 3/5; 6/9] START neuron1=8, neuron2=8........................................\n",
      "[CV 3/5; 6/9] END .........neuron1=8, neuron2=8;, score=0.983 total time=   4.6s\n",
      "[CV 4/5; 6/9] START neuron1=8, neuron2=8........................................\n",
      "[CV 4/5; 6/9] END .........neuron1=8, neuron2=8;, score=0.983 total time=   4.6s\n",
      "[CV 5/5; 6/9] START neuron1=8, neuron2=8........................................\n",
      "[CV 5/5; 6/9] END .........neuron1=8, neuron2=8;, score=0.783 total time=   4.9s\n",
      "[CV 1/5; 7/9] START neuron1=16, neuron2=2.......................................\n",
      "[CV 1/5; 7/9] END ........neuron1=16, neuron2=2;, score=0.942 total time=   4.9s\n",
      "[CV 2/5; 7/9] START neuron1=16, neuron2=2.......................................\n",
      "[CV 2/5; 7/9] END ........neuron1=16, neuron2=2;, score=0.942 total time=   4.6s\n",
      "[CV 3/5; 7/9] START neuron1=16, neuron2=2.......................................\n",
      "[CV 3/5; 7/9] END ........neuron1=16, neuron2=2;, score=0.959 total time=   4.6s\n",
      "[CV 4/5; 7/9] START neuron1=16, neuron2=2.......................................\n",
      "[CV 4/5; 7/9] END ........neuron1=16, neuron2=2;, score=0.959 total time=   4.7s\n",
      "[CV 5/5; 7/9] START neuron1=16, neuron2=2.......................................\n",
      "[CV 5/5; 7/9] END ........neuron1=16, neuron2=2;, score=1.000 total time=   4.7s\n",
      "[CV 1/5; 8/9] START neuron1=16, neuron2=4.......................................\n",
      "[CV 1/5; 8/9] END ........neuron1=16, neuron2=4;, score=0.959 total time=   5.3s\n",
      "[CV 2/5; 8/9] START neuron1=16, neuron2=4.......................................\n",
      "[CV 2/5; 8/9] END ........neuron1=16, neuron2=4;, score=0.983 total time=   4.7s\n",
      "[CV 3/5; 8/9] START neuron1=16, neuron2=4.......................................\n",
      "[CV 3/5; 8/9] END ........neuron1=16, neuron2=4;, score=0.950 total time=   4.6s\n",
      "[CV 4/5; 8/9] START neuron1=16, neuron2=4.......................................\n",
      "[CV 4/5; 8/9] END ........neuron1=16, neuron2=4;, score=0.942 total time=   4.7s\n",
      "[CV 5/5; 8/9] START neuron1=16, neuron2=4.......................................\n",
      "[CV 5/5; 8/9] END ........neuron1=16, neuron2=4;, score=1.000 total time=   4.6s\n",
      "[CV 1/5; 9/9] START neuron1=16, neuron2=8.......................................\n",
      "[CV 1/5; 9/9] END ........neuron1=16, neuron2=8;, score=0.959 total time=   4.8s\n",
      "[CV 2/5; 9/9] START neuron1=16, neuron2=8.......................................\n",
      "[CV 2/5; 9/9] END ........neuron1=16, neuron2=8;, score=0.975 total time=   4.6s\n",
      "[CV 3/5; 9/9] START neuron1=16, neuron2=8.......................................\n",
      "[CV 3/5; 9/9] END ........neuron1=16, neuron2=8;, score=0.983 total time=   5.8s\n",
      "[CV 4/5; 9/9] START neuron1=16, neuron2=8.......................................\n",
      "[CV 4/5; 9/9] END ........neuron1=16, neuron2=8;, score=0.983 total time=   4.7s\n",
      "[CV 5/5; 9/9] START neuron1=16, neuron2=8.......................................\n",
      "[CV 5/5; 9/9] END ........neuron1=16, neuron2=8;, score=0.958 total time=   5.5s\n"
     ]
    }
   ],
   "source": [
    "#Tuning number of neurons\n",
    "# Defining the model\n",
    "\n",
    "def create_model3(neuron1,neuron2):\n",
    "    model = Sequential()\n",
    "    model.add(Dense(neuron1,input_dim = 28,kernel_initializer = 'uniform',activation = 'relu'))\n",
    "    model.add(Dropout(0.0))\n",
    "    model.add(Dense(neuron2,input_dim = neuron1,kernel_initializer = 'uniform',activation = 'relu'))\n",
    "    model.add(Dropout(0.0))\n",
    "    model.add(Dense(1,activation = 'sigmoid'))\n",
    "    \n",
    "    adam = Adam(learning_rate = 0.001)\n",
    "    model.compile(loss = 'binary_crossentropy',optimizer = adam, metrics = ['accuracy'])\n",
    "    return model\n",
    "\n",
    "# Create the model\n",
    "model = KerasClassifier(build_fn = create_model3,verbose = 0,batch_size = 10,epochs = 50)\n",
    "\n",
    "# Define the grid search parameters\n",
    "neuron1 = [4,8,16]\n",
    "neuron2 = [2,4,8]\n",
    "\n",
    "# Make a dictionary of the grid search parameters\n",
    "param_grids = dict(neuron1 = neuron1,neuron2 = neuron2)\n",
    "\n",
    "grid = GridSearchCV(estimator = model,param_grid = param_grids,cv = KFold(),verbose = 10)\n",
    "grid_result = grid.fit(x,y)\n"
   ]
  },
  {
   "cell_type": "code",
   "execution_count": 327,
   "id": "103271cb",
   "metadata": {},
   "outputs": [
    {
     "name": "stdout",
     "output_type": "stream",
     "text": [
      "Best : 0.9718319654464722, using {'neuron1': 16, 'neuron2': 8}\n",
      "0.7487603425979614,0.3752685051673635 with: {'neuron1': 4, 'neuron2': 2}\n",
      "0.7432644724845886,0.23836306060497275 with: {'neuron1': 4, 'neuron2': 4}\n",
      "0.8686501383781433,0.16906812209914363 with: {'neuron1': 4, 'neuron2': 8}\n",
      "0.6275895267724991,0.3133777648717073 with: {'neuron1': 8, 'neuron2': 2}\n",
      "0.9169421553611755,0.08363456987006636 with: {'neuron1': 8, 'neuron2': 4}\n",
      "0.9368319749832154,0.0778098934104271 with: {'neuron1': 8, 'neuron2': 8}\n",
      "0.960330581665039,0.0211673573745819 with: {'neuron1': 16, 'neuron2': 2}\n",
      "0.9669421553611756,0.021551086713816645 with: {'neuron1': 16, 'neuron2': 4}\n",
      "0.9718319654464722,0.011292254112658235 with: {'neuron1': 16, 'neuron2': 8}\n"
     ]
    }
   ],
   "source": [
    "# Summarize the results\n",
    "print('Best : {}, using {}'.format(grid_result.best_score_,grid_result.best_params_))\n",
    "means = grid_result.cv_results_['mean_test_score']\n",
    "stds = grid_result.cv_results_['std_test_score']\n",
    "params = grid_result.cv_results_['params']\n",
    "for mean, stdev, param in zip(means, stds, params):\n",
    "  print('{},{} with: {}'.format(mean, stdev, param))"
   ]
  },
  {
   "cell_type": "code",
   "execution_count": 338,
   "id": "64461b87",
   "metadata": {},
   "outputs": [
    {
     "name": "stderr",
     "output_type": "stream",
     "text": [
      "C:\\Users\\Renu\\AppData\\Local\\Temp\\ipykernel_51252\\959614363.py:18: DeprecationWarning: KerasClassifier is deprecated, use Sci-Keras (https://github.com/adriangb/scikeras) instead. See https://www.adriangb.com/scikeras/stable/migration.html for help migrating.\n",
      "  model = KerasClassifier(build_fn = create_model4,verbose = 0,batch_size = 10,epochs = 50)\n"
     ]
    },
    {
     "name": "stdout",
     "output_type": "stream",
     "text": [
      "4/4 [==============================] - 0s 2ms/step\n",
      "0.9514563106796117\n"
     ]
    }
   ],
   "source": [
    "from sklearn.metrics import classification_report, accuracy_score\n",
    "# final model\n",
    "# Defining the model\n",
    "\n",
    "def create_model4():\n",
    "    model = Sequential()\n",
    "    model.add(Dense(16,input_dim = 28,kernel_initializer = 'uniform',activation = 'tanh'))\n",
    "    model.add(Dropout(0.0))\n",
    "    model.add(Dense(8,input_dim = 16,kernel_initializer = 'uniform',activation = 'tanh'))\n",
    "    model.add(Dropout(0.0))\n",
    "    model.add(Dense(1,activation = 'sigmoid'))\n",
    "    \n",
    "    adam = Adam(learning_rate = 0.01)\n",
    "    model.compile(loss = 'binary_crossentropy',optimizer = adam,metrics = ['accuracy'])\n",
    "    return model\n",
    "\n",
    "# Create the model\n",
    "model = KerasClassifier(build_fn = create_model4,verbose = 0,batch_size = 10,epochs = 50)\n",
    "\n",
    "# Fitting the model\n",
    "history = model.fit(x,y)\n",
    "\n",
    "# Predicting using trained model\n",
    "y_predict = model.predict(x_valid)\n",
    "\n",
    "# Printing the metrics\n",
    "print(accuracy_score(y_valid,y_predict))"
   ]
  },
  {
   "cell_type": "code",
   "execution_count": 348,
   "id": "35b10472",
   "metadata": {},
   "outputs": [
    {
     "data": {
      "image/png": "[encoded data removed]",
      "text/plain": [
       "<Figure size 640x480 with 2 Axes>"
      ]
     },
     "metadata": {},
     "output_type": "display_data"
    }
   ],
   "source": [
    "from sklearn.metrics import accuracy_score, confusion_matrix, ConfusionMatrixDisplay\n",
    "from sklearn.metrics import classification_report\n",
    "class_names = ['small','large']\n",
    "cm = confusion_matrix(y_valid,y_predict)\n",
    "cm_display = ConfusionMatrixDisplay(confusion_matrix = cm, display_labels = class_names)\n",
    "\n",
    "cm_display.plot()\n",
    "plt.show()\n"
   ]
  },
  {
   "cell_type": "code",
   "execution_count": 349,
   "id": "6171a91a",
   "metadata": {},
   "outputs": [
    {
     "name": "stdout",
     "output_type": "stream",
     "text": [
      "AUC: 0.824\n"
     ]
    },
    {
     "data": {
      "image/png": "[encoded data removed]",
      "text/plain": [
       "<Figure size 640x480 with 1 Axes>"
      ]
     },
     "metadata": {},
     "output_type": "display_data"
    }
   ],
   "source": [
    "from sklearn.metrics import roc_auc_score, roc_curve\n",
    "fpr, tpr, thresholds = roc_curve(y_valid, y_predict, pos_label=2)\n",
    "auc = roc_auc_score(y_valid, preds)\n",
    "print('AUC: %.3f' % auc)\n",
    "#create ROC curve\n",
    "plt.plot(fpr,tpr)\n",
    "plt.ylabel('True Positive Rate')\n",
    "plt.xlabel('False Positive Rate')\n",
    "plt.show()"
   ]
  },
  {
   "cell_type": "markdown",
   "id": "b1182bb2",
   "metadata": {},
   "source": [
    "**Conclusion: firstly, Performed random oversampling on the dataset to get a balance data. Then used hyperparameter tuning to tune the model parameters.\n",
    "The final CNN model has three layers with the following parameters:\n",
    "Batch size = 10  \n",
    "Epochs = 50  \n",
    "learning rate = 0.01  \n",
    "dropout rate = 0.0  \n",
    "neurons 1 = 16  \n",
    "neurons 2 = 8 \n",
    "activation function = tanh  \n",
    "kernel_initializer = uniform** \n",
    "\n",
    "model accuracy = 95.14%  \n",
    "area under ROC curve = 0.824**"
   ]
  },
  {
   "cell_type": "code",
   "execution_count": null,
   "id": "f22a87cd",
   "metadata": {},
   "outputs": [],
   "source": []
  },
  {
   "cell_type": "code",
   "execution_count": null,
   "id": "b6781d8f",
   "metadata": {},
   "outputs": [],
   "source": []
  }
 ],
 "metadata": {
  "kernelspec": {
   "display_name": "Python 3 (ipykernel)",
   "language": "python",
   "name": "python3"
  },
  "language_info": {
   "codemirror_mode": {
    "name": "ipython",
    "version": 3
   },
   "file_extension": ".py",
   "mimetype": "text/x-python",
   "name": "python",
   "nbconvert_exporter": "python",
   "pygments_lexer": "ipython3",
   "version": "3.9.13"
  }
 },
 "nbformat": 4,
 "nbformat_minor": 5
}
